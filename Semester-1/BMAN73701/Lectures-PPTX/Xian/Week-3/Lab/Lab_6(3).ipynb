{
 "cells": [
  {
   "cell_type": "markdown",
   "id": "c6c77b4c",
   "metadata": {},
   "source": [
    "## Programming in Python for Business Analytics (BMAN73701)"
   ]
  },
  {
   "cell_type": "markdown",
   "id": "7f70bf89",
   "metadata": {},
   "source": [
    "### Lab Session: Lab 6- Numpy"
   ]
  },
  {
   "cell_type": "markdown",
   "id": "5e3062f8",
   "metadata": {},
   "source": [
    "#### Introduction"
   ]
  },
  {
   "cell_type": "markdown",
   "id": "a321d9b3",
   "metadata": {},
   "source": [
    "This week we will be working with numpy, an extremely popular package for scientific computing. The core data structure here are arrays. If you've ever done any maths involving matrix, then you should have a grasp on what an array is."
   ]
  },
  {
   "cell_type": "markdown",
   "id": "8e624629",
   "metadata": {},
   "source": [
    "There are some things to keep in mind when working with arrays and numpy. The first is that, you should rarely (if ever) need to use a for loop. If you find yourself writing a loop, take a step back and think about it. When we worked with lists, we iterated/looped over this list and did something with each individual element. With numpy, you should be thinking more that we work with the whole thing at the same time. This is much, much faster."
   ]
  },
  {
   "cell_type": "markdown",
   "id": "6eb39a99",
   "metadata": {},
   "source": [
    "As always, we put our import statements are the top of any script. The convention for numpy is to write:"
   ]
  },
  {
   "cell_type": "code",
   "execution_count": 1,
   "id": "81ff4db6",
   "metadata": {},
   "outputs": [],
   "source": [
    "import numpy as np"
   ]
  },
  {
   "cell_type": "markdown",
   "id": "1af1806f",
   "metadata": {},
   "source": [
    "So when using numpy functions like sum, we access it through np.sum()."
   ]
  },
  {
   "cell_type": "markdown",
   "id": "90b583da",
   "metadata": {},
   "source": [
    "### Exercise 1: Slicing/Indexing"
   ]
  },
  {
   "cell_type": "markdown",
   "id": "7c611008",
   "metadata": {},
   "source": [
    "Fortunately, this is quite similar to what we did with lists. You should be comfortable with this by now. Try to write the code that gives the output shown.\n",
    "\n",
    "\n",
    "Note: Python uses zero-based indexing, which means that the first element is at index 0, the second element at index 1, and so on. "
   ]
  },
  {
   "cell_type": "code",
   "execution_count": 2,
   "id": "a192ba30",
   "metadata": {},
   "outputs": [],
   "source": [
    "import numpy as np\n",
    "\n",
    "a = np.array([[1,2,3,4], [5,6,7,8], [9,10,11,12]])\n",
    "# Print the whole array\n",
    "\n",
    "# Print all rows, skip 1st column\n",
    "\n",
    "# First two rows, 1st and 4th columns\n",
    "\n",
    "# Every 2nd row, reversed order\n",
    "\n",
    "# Print a boolean matrix with True if the value in a at that position is smaller than 7 and False otherwise.\n",
    "\n",
    "# Print all values from matrix 'a' that are larger than 4.\n"
   ]
  },
  {
   "cell_type": "markdown",
   "id": "15c0c9a8",
   "metadata": {},
   "source": [
    "### Exercise 2: Working with arrays"
   ]
  },
  {
   "cell_type": "markdown",
   "id": "fc3728bb",
   "metadata": {},
   "source": [
    "Whenever you think about doing something with an array, there's a good chance that there is a numpy function for that. Always Google or check [the docs](https://numpy.org/doc/stable/reference/)"
   ]
  },
  {
   "cell_type": "code",
   "execution_count": 3,
   "id": "15bdba98",
   "metadata": {},
   "outputs": [],
   "source": [
    "a = np.array([[1,2,3,4], [5,6,7,8], [9,10,11,12]])\n",
    "# Print mean (average) of whole matrix\n",
    "# Print mean of each column\n",
    "# Print mean of each row\n",
    "# Print standard deviation of the whole matrix"
   ]
  },
  {
   "cell_type": "markdown",
   "id": "c7b3004c",
   "metadata": {},
   "source": [
    "### Exercise 3: Broadcasting"
   ]
  },
  {
   "cell_type": "code",
   "execution_count": 4,
   "id": "6ca5d17c",
   "metadata": {},
   "outputs": [
    {
     "name": "stdout",
     "output_type": "stream",
     "text": [
      "[ 0 10 20 30 40 50]\n",
      "[0.  1.5 3.  4.5 6.  7.5 9. ]\n"
     ]
    }
   ],
   "source": [
    "a = np.arange(0, 51, 10)\n",
    "print(a)\n",
    "b = np.arange(0, 10, 1.5)\n",
    "print(b)\n",
    "\n",
    "# Print 'a' as a column vector\n",
    "# Print 'a' as a matrix (2 x 3)\n",
    "# Calculate a matrix X, where X_ij = a_i + b_j"
   ]
  },
  {
   "cell_type": "markdown",
   "id": "44471fbe",
   "metadata": {},
   "source": [
    "### Exercise 4: Sorting"
   ]
  },
  {
   "cell_type": "code",
   "execution_count": 5,
   "id": "4a4f7f36",
   "metadata": {},
   "outputs": [],
   "source": [
    "np.random.seed(42)\n",
    "# Create and print a uniformly random matrix with 3 rows and 4 columns\n",
    "\n",
    "# Sort each row \n",
    "\n",
    "# Sort each column in descending order\n",
    "\n",
    "# Print the order of the sorted elements of each row (indirect sorting)"
   ]
  },
  {
   "cell_type": "markdown",
   "id": "a55f8e06",
   "metadata": {},
   "source": [
    "### Exercise 5: Data Exploration"
   ]
  },
  {
   "cell_type": "markdown",
   "id": "5d6fb134",
   "metadata": {},
   "source": [
    "Download the file \"sales_dept_store.csv\" from Blackboard. In this file, values are the volume of sales, where each row corresponds to a store and each column to a different department."
   ]
  },
  {
   "cell_type": "markdown",
   "id": "d552541f",
   "metadata": {},
   "source": [
    "Write code to print the following information:  \n",
    "    A.Number of stores and number of departments  \n",
    "    B.The number of stores that have at least one department with negative sales  \n",
    "    C.The five departments with the highest mean sales (and their mean sales)  "
   ]
  },
  {
   "cell_type": "markdown",
   "id": "df338f22",
   "metadata": {},
   "source": [
    "**Hint**: Use the code supplied below to read in the dataset."
   ]
  },
  {
   "cell_type": "code",
   "execution_count": 6,
   "id": "10be253a",
   "metadata": {},
   "outputs": [],
   "source": [
    "import numpy as np\n",
    "\n",
    "# Read in the data using Numpy. This creates a NumPy matrix\n",
    "sales = np.genfromtxt(\"sales_dept_store.csv\", delimiter = ',')"
   ]
  },
  {
   "cell_type": "markdown",
   "id": "10fbbead",
   "metadata": {},
   "source": [
    "### Further Resources"
   ]
  },
  {
   "cell_type": "markdown",
   "id": "6b57ff47",
   "metadata": {},
   "source": [
    "[Numpy documentation](https://numpy.org/doc/stable/reference/)  \n",
    "[Scipy Lectures: Numpy chapter](http://scipy-lectures.org/intro/numpy/index.html)  \n",
    "[Python for Data Science Handbook: Introduction to Numpy](https://jakevdp.github.io/PythonDataScienceHandbook/02.00-introduction-to-numpy.html)"
   ]
  },
  {
   "cell_type": "code",
   "execution_count": null,
   "id": "8a17cdb8",
   "metadata": {},
   "outputs": [],
   "source": []
  }
 ],
 "metadata": {
  "kernelspec": {
   "display_name": "Python 3 (ipykernel)",
   "language": "python",
   "name": "python3"
  },
  "language_info": {
   "codemirror_mode": {
    "name": "ipython",
    "version": 3
   },
   "file_extension": ".py",
   "mimetype": "text/x-python",
   "name": "python",
   "nbconvert_exporter": "python",
   "pygments_lexer": "ipython3",
   "version": "3.11.4"
  }
 },
 "nbformat": 4,
 "nbformat_minor": 5
}
