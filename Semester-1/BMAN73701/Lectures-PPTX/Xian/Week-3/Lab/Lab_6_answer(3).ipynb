{
 "cells": [
  {
   "cell_type": "markdown",
   "id": "c6c77b4c",
   "metadata": {},
   "source": [
    "## Programming in Python for Business Analytics (BMAN73701)"
   ]
  },
  {
   "cell_type": "markdown",
   "id": "7f70bf89",
   "metadata": {},
   "source": [
    "### Lab Session: Lab 6 - Numpy"
   ]
  },
  {
   "cell_type": "markdown",
   "id": "5e3062f8",
   "metadata": {},
   "source": [
    "#### Introduction"
   ]
  },
  {
   "cell_type": "markdown",
   "id": "a321d9b3",
   "metadata": {},
   "source": [
    "This week we will be working with numpy, an extremely popular package for scientific computing. The core data structure here are arrays. If you've ever done any maths involving matrix, then you should have a grasp on what an array is."
   ]
  },
  {
   "cell_type": "markdown",
   "id": "8e624629",
   "metadata": {},
   "source": [
    "There are some things to keep in mind when working with arrays and numpy. The first is that, you should rarely (if ever) need to use a for loop. If you find yourself writing a loop, take a step back and think about it. When we worked with lists, we iterated/looped over this list and did something with each individual element. With numpy, you should be thinking more that we work with the whole thing at the same time. This is much, much faster."
   ]
  },
  {
   "cell_type": "markdown",
   "id": "6eb39a99",
   "metadata": {},
   "source": [
    "As always, we put our import statements are the top of any script. The convention for numpy is to write:"
   ]
  },
  {
   "cell_type": "code",
   "execution_count": 1,
   "id": "81ff4db6",
   "metadata": {},
   "outputs": [],
   "source": [
    "import numpy as np"
   ]
  },
  {
   "cell_type": "markdown",
   "id": "1af1806f",
   "metadata": {},
   "source": [
    "So when using numpy functions like sum, we access it through np.sum()."
   ]
  },
  {
   "cell_type": "markdown",
   "id": "90b583da",
   "metadata": {},
   "source": [
    "### Exercise 1: Slicing/Indexing"
   ]
  },
  {
   "cell_type": "markdown",
   "id": "7c611008",
   "metadata": {},
   "source": [
    "Fortunately, this is quite similar to what we did with lists. You should be comfortable with this by now. Try to write the code that gives the output shown.\n",
    "\n",
    "\n",
    "Note: Python uses zero-based indexing, which means that the first element is at index 0, the second element at index 1, and so on. "
   ]
  },
  {
   "cell_type": "code",
   "execution_count": 2,
   "id": "a192ba30",
   "metadata": {},
   "outputs": [
    {
     "name": "stdout",
     "output_type": "stream",
     "text": [
      "[[ 1  2  3  4]\n",
      " [ 5  6  7  8]\n",
      " [ 9 10 11 12]]\n",
      "[[ 2  3  4]\n",
      " [ 6  7  8]\n",
      " [10 11 12]]\n",
      "[[1 4]\n",
      " [5 8]]\n",
      "[[ 4  3  2  1]\n",
      " [12 11 10  9]]\n",
      "[[ True  True  True  True]\n",
      " [ True  True False False]\n",
      " [False False False False]]\n",
      "[ 5  6  7  8  9 10 11 12]\n"
     ]
    }
   ],
   "source": [
    "import numpy as np\n",
    "\n",
    "a = np.array([[1,2,3,4], [5,6,7,8], [9,10,11,12]])\n",
    "# Print the whole array\n",
    "print(a) \n",
    "# Print all rows, skip 1st column\n",
    "print(a[:, 1:])\n",
    "# First two rows, 1st and 4th columns\n",
    "print(a[:2, [0,3]])\n",
    "# Every 2nd row, reversed order\n",
    "print(a[::2, ::-1])\n",
    "# Print a boolean matrix with True if the value in a at that position is smaller than 7 and False otherwise.\n",
    "print(a < 7)\n",
    "# Print all values from matrix 'a' that are larger than 4.\n",
    "print(a[a > 4])\n"
   ]
  },
  {
   "cell_type": "markdown",
   "id": "15c0c9a8",
   "metadata": {},
   "source": [
    "### Exercise 2: Working with arrays"
   ]
  },
  {
   "cell_type": "markdown",
   "id": "fc3728bb",
   "metadata": {},
   "source": [
    "Whenever you think about doing something with an array, there's a good chance that there is a numpy function for that. Always Google or check [the docs](https://numpy.org/doc/stable/reference/)"
   ]
  },
  {
   "cell_type": "code",
   "execution_count": 3,
   "id": "15bdba98",
   "metadata": {},
   "outputs": [
    {
     "name": "stdout",
     "output_type": "stream",
     "text": [
      "6.5\n",
      "[5. 6. 7. 8.]\n",
      "[ 2.5  6.5 10.5]\n",
      "3.452052529534663\n"
     ]
    }
   ],
   "source": [
    "a = np.array([[1,2,3,4], [5,6,7,8], [9,10,11,12]])\n",
    "print(np.mean(a)) # Print mean (average) of whole matrix\n",
    "print(np.mean(a, axis = 0)) # Print mean of each column\n",
    "print(np.mean(a, axis = 1)) # Print mean of each row\n",
    "print(np.std(a)) # Print standard deviation of the whole matrix"
   ]
  },
  {
   "cell_type": "markdown",
   "id": "c7b3004c",
   "metadata": {},
   "source": [
    "### Exercise 3: Broadcasting"
   ]
  },
  {
   "cell_type": "code",
   "execution_count": 4,
   "id": "6ca5d17c",
   "metadata": {},
   "outputs": [
    {
     "name": "stdout",
     "output_type": "stream",
     "text": [
      "[ 0 10 20 30 40 50]\n",
      "[0.  1.5 3.  4.5 6.  7.5 9. ]\n",
      "[[ 0]\n",
      " [10]\n",
      " [20]\n",
      " [30]\n",
      " [40]\n",
      " [50]]\n",
      "[[ 0 10 20]\n",
      " [30 40 50]]\n",
      "[[ 0.   1.5  3.   4.5  6.   7.5  9. ]\n",
      " [10.  11.5 13.  14.5 16.  17.5 19. ]\n",
      " [20.  21.5 23.  24.5 26.  27.5 29. ]\n",
      " [30.  31.5 33.  34.5 36.  37.5 39. ]\n",
      " [40.  41.5 43.  44.5 46.  47.5 49. ]\n",
      " [50.  51.5 53.  54.5 56.  57.5 59. ]]\n"
     ]
    }
   ],
   "source": [
    "a = np.arange(0, 51, 10)\n",
    "print(a)\n",
    "b = np.arange(0, 10, 1.5)\n",
    "print(b)\n",
    "\n",
    "print(a.reshape((a.shape[0], 1))) # Print 'a' as a column vector\n",
    "# print(a[:,np.newaxis]) \n",
    "\n",
    "print(a.reshape((2,3))) # Print 'a' as a matrix (2 x 3)\n",
    "print(a.reshape((a.shape[0],1)) + b) # Calculate a matrix X, where X_ij = a_i + b_j\n"
   ]
  },
  {
   "cell_type": "markdown",
   "id": "44471fbe",
   "metadata": {},
   "source": [
    "### Exercise 4: Sorting"
   ]
  },
  {
   "cell_type": "code",
   "execution_count": 5,
   "id": "4a4f7f36",
   "metadata": {},
   "outputs": [
    {
     "name": "stdout",
     "output_type": "stream",
     "text": [
      "[[0.37454012 0.95071431 0.73199394 0.59865848]\n",
      " [0.15601864 0.15599452 0.05808361 0.86617615]\n",
      " [0.60111501 0.70807258 0.02058449 0.96990985]]\n",
      "[[0.37454012 0.59865848 0.73199394 0.95071431]\n",
      " [0.05808361 0.15599452 0.15601864 0.86617615]\n",
      " [0.02058449 0.60111501 0.70807258 0.96990985]]\n",
      "[[0.60111501 0.95071431 0.73199394 0.96990985]\n",
      " [0.37454012 0.70807258 0.05808361 0.86617615]\n",
      " [0.15601864 0.15599452 0.02058449 0.59865848]]\n",
      "[[0 3 2 1]\n",
      " [2 1 0 3]\n",
      " [2 0 1 3]]\n"
     ]
    }
   ],
   "source": [
    "np.random.seed(42)\n",
    "# Create and print a uniformly random matrix with 3 rows and 4 columns\n",
    "a = np.random.rand(3,4)\n",
    "print(a) \n",
    "\n",
    "# axis = 1: perform operation horizontally \n",
    "# axis = 0: perform operation vertically \n",
    "\n",
    "# Sort each row \n",
    "print(np.sort(a, axis = 1)) \n",
    "\n",
    "# Sort each column in descending order\n",
    "print(-np.sort(-a, axis = 0)) \n",
    "\n",
    "# Print the order of the sorted elements of each row (indirect sorting)\n",
    "print(np.argsort(a, axis = 1))"
   ]
  },
  {
   "cell_type": "markdown",
   "id": "a55f8e06",
   "metadata": {},
   "source": [
    "### Exercise 5: Data Exploration"
   ]
  },
  {
   "cell_type": "markdown",
   "id": "5d6fb134",
   "metadata": {},
   "source": [
    "Download the file \"sales_dept_store.csv\" from Blackboard. In this file, values are the volume of sales, where each row corresponds to a store and each column to a different department."
   ]
  },
  {
   "cell_type": "markdown",
   "id": "d552541f",
   "metadata": {},
   "source": [
    "Write code to print the following information:  \n",
    "    A.Number of stores and number of departments  \n",
    "    B.The number of stores that have at least one department with negative sales  \n",
    "    C.The five departments with the highest mean sales (and their mean sales)  "
   ]
  },
  {
   "cell_type": "code",
   "execution_count": 6,
   "id": "10be253a",
   "metadata": {},
   "outputs": [
    {
     "data": {
      "text/plain": [
       "array([[3.21940518e+06, 6.59259893e+06, 1.88051836e+06, ...,\n",
       "        5.03465088e+06, 1.69137122e+06, 1.13253700e+04],\n",
       "       [4.40125125e+06, 9.42554792e+06, 2.49914856e+06, ...,\n",
       "        5.81970018e+06, 2.00706232e+06, 1.99876700e+04],\n",
       "       [1.04799281e+06, 2.40837392e+06, 7.87830010e+05, ...,\n",
       "        4.80812300e+04, 1.10055000e+03, 0.00000000e+00],\n",
       "       ...,\n",
       "       [1.07952259e+06, 2.96336776e+06, 1.42949790e+05, ...,\n",
       "        2.76704856e+06, 1.37206605e+06, 1.05000000e+02],\n",
       "       [1.15114890e+06, 1.34095004e+06, 8.16553900e+04, ...,\n",
       "        9.49014840e+05, 4.95649020e+05, 7.01000000e+00],\n",
       "       [2.53766599e+06, 5.11953048e+06, 1.35964614e+06, ...,\n",
       "        9.24775550e+05, 7.57672700e+04, 0.00000000e+00]])"
      ]
     },
     "execution_count": 6,
     "metadata": {},
     "output_type": "execute_result"
    }
   ],
   "source": [
    "import numpy as np\n",
    "\n",
    "# Read in the data using Numpy. This creates a NumPy matrix\n",
    "sales = np.genfromtxt(\"sales_dept_store.csv\", delimiter = ',')\n",
    "\n",
    "# import pandas as pd\n",
    "# sales_df = pd.read_csv(\"sales_dept_store.csv\")\n",
    "# sales = sales_df.to_numpy()\n",
    "\n",
    "sales\n"
   ]
  },
  {
   "cell_type": "markdown",
   "id": "38b81027",
   "metadata": {},
   "source": [
    "#### A. Number of stores and number of departments"
   ]
  },
  {
   "cell_type": "code",
   "execution_count": 7,
   "id": "30694f72",
   "metadata": {},
   "outputs": [
    {
     "name": "stdout",
     "output_type": "stream",
     "text": [
      "There are 45 stores and 81 departments\n"
     ]
    }
   ],
   "source": [
    "print(\"There are\", sales.shape[0], \"stores and\", sales.shape[1], \"departments\")"
   ]
  },
  {
   "cell_type": "markdown",
   "id": "888b7040",
   "metadata": {},
   "source": [
    "#### B. The number of stores that have at least one department with  negative sales"
   ]
  },
  {
   "cell_type": "code",
   "execution_count": 8,
   "id": "e9b24870",
   "metadata": {},
   "outputs": [
    {
     "name": "stdout",
     "output_type": "stream",
     "text": [
      "There are 26 stores reporting negative sales\n",
      "There are 26 stores reporting negative sales\n"
     ]
    }
   ],
   "source": [
    "# Solution 1\n",
    "print(\"There are\", np.sum(np.min(sales, axis=1) < 0), \"stores reporting negative sales\")\n",
    "# Solution 2 \n",
    "print(\"There are\", np.sum(np.any(sales < 0, axis=1)), \"stores reporting negative sales\") "
   ]
  },
  {
   "cell_type": "markdown",
   "id": "30d7f6fb",
   "metadata": {},
   "source": [
    "#### C. The five departments with the highest mean sales (and their mean sales)"
   ]
  },
  {
   "cell_type": "code",
   "execution_count": 9,
   "id": "80ca788b",
   "metadata": {},
   "outputs": [
    {
     "name": "stdout",
     "output_type": "stream",
     "text": [
      "The 5 departments with the highest mean sales (and their mean sales):\n",
      "\n",
      "[73 76 36 60 71]\n",
      "[10754296.486       9984892.50044444  8735958.59822222  6793892.27133333\n",
      "  6468188.08177778]\n"
     ]
    }
   ],
   "source": [
    "best_num = 5\n",
    "mean_sales_by_dept = np.mean(sales, axis=0)\n",
    "\n",
    "# Solution: sort decreasing, select the first best_num \n",
    "best_dept = np.argsort(-mean_sales_by_dept)[:best_num]\n",
    "print(\"The\", best_num, \"departments with the highest mean sales (and their mean sales):\\n\")\n",
    "print(best_dept)\n",
    "print(mean_sales_by_dept[best_dept])\n"
   ]
  },
  {
   "cell_type": "markdown",
   "id": "10fbbead",
   "metadata": {},
   "source": [
    "### Further Resources"
   ]
  },
  {
   "cell_type": "markdown",
   "id": "6b57ff47",
   "metadata": {},
   "source": [
    "[Numpy documentation](https://numpy.org/doc/stable/reference/)  \n",
    "[Scipy Lectures: Numpy chapter](http://scipy-lectures.org/intro/numpy/index.html)  \n",
    "[Python for Data Science Handbook: Introduction to Numpy](https://jakevdp.github.io/PythonDataScienceHandbook/02.00-introduction-to-numpy.html)"
   ]
  },
  {
   "cell_type": "code",
   "execution_count": null,
   "id": "4360ad57",
   "metadata": {},
   "outputs": [],
   "source": []
  }
 ],
 "metadata": {
  "kernelspec": {
   "display_name": "Python 3 (ipykernel)",
   "language": "python",
   "name": "python3"
  },
  "language_info": {
   "codemirror_mode": {
    "name": "ipython",
    "version": 3
   },
   "file_extension": ".py",
   "mimetype": "text/x-python",
   "name": "python",
   "nbconvert_exporter": "python",
   "pygments_lexer": "ipython3",
   "version": "3.11.4"
  }
 },
 "nbformat": 4,
 "nbformat_minor": 5
}
