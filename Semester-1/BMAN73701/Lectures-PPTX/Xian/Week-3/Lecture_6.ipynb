{
 "cells": [
  {
   "cell_type": "code",
   "execution_count": 1,
   "id": "c52c5716-0969-4fd3-b448-b07c7aa915d4",
   "metadata": {},
   "outputs": [],
   "source": [
    "# -*- coding: utf-8 -*-"
   ]
  },
  {
   "cell_type": "code",
   "execution_count": 2,
   "id": "820a749d-1d97-43be-a022-03b687274964",
   "metadata": {},
   "outputs": [],
   "source": [
    "import numpy as np\n",
    "from timeit import default_timer as timer"
   ]
  },
  {
   "cell_type": "markdown",
   "id": "46f37341-5e9d-489e-9c86-5f79c2d63402",
   "metadata": {},
   "source": [
    "## 1. Summing up 10M Numbers"
   ]
  },
  {
   "cell_type": "code",
   "execution_count": 3,
   "id": "82cf2355-0c24-4741-9464-a45b432e3578",
   "metadata": {
    "scrolled": true
   },
   "outputs": [],
   "source": [
    "a = list(range(10**7))"
   ]
  },
  {
   "cell_type": "code",
   "execution_count": 4,
   "id": "5a62181a-71aa-4a44-b385-731a260992b3",
   "metadata": {},
   "outputs": [
    {
     "name": "stdout",
     "output_type": "stream",
     "text": [
      "Time: 0.645131874945946 seconds\n"
     ]
    }
   ],
   "source": [
    "start = timer()\n",
    "s = 0\n",
    "for i in a:\n",
    "    s += i\n",
    "print(f\"Time: {timer() - start} seconds\")"
   ]
  },
  {
   "cell_type": "code",
   "execution_count": 5,
   "id": "de0da313-d9e3-4f91-8650-30e4969e6c23",
   "metadata": {},
   "outputs": [
    {
     "name": "stdout",
     "output_type": "stream",
     "text": [
      "Time: 0.05586295807734132 seconds\n"
     ]
    }
   ],
   "source": [
    "start = timer()\n",
    "s = sum(a)\n",
    "print(f\"Time: {timer() - start} seconds\")"
   ]
  },
  {
   "cell_type": "code",
   "execution_count": 6,
   "id": "1b04243c",
   "metadata": {},
   "outputs": [
    {
     "data": {
      "text/plain": [
       "array([      0,       1,       2, ..., 9999997, 9999998, 9999999])"
      ]
     },
     "execution_count": 6,
     "metadata": {},
     "output_type": "execute_result"
    }
   ],
   "source": [
    "x = np.array(a)\n",
    "# x = np.arange(10**7)\n",
    "x"
   ]
  },
  {
   "cell_type": "code",
   "execution_count": 7,
   "id": "8e5553cb",
   "metadata": {},
   "outputs": [
    {
     "name": "stdout",
     "output_type": "stream",
     "text": [
      "Time: 0.009105166071094573 seconds\n"
     ]
    }
   ],
   "source": [
    "start = timer()\n",
    "s = np.sum(x)\n",
    "print(f\"Time: {timer() - start} seconds\")"
   ]
  },
  {
   "cell_type": "markdown",
   "id": "357858a6-6b89-48d1-94df-bad991a03f0b",
   "metadata": {},
   "source": [
    "## 2. NumPy arrays: Vectors and Matrices"
   ]
  },
  {
   "cell_type": "code",
   "execution_count": 8,
   "id": "87b1bb05-3516-461d-8efc-6230213bfdc0",
   "metadata": {},
   "outputs": [
    {
     "data": {
      "text/plain": [
       "array([0, 1, 2])"
      ]
     },
     "execution_count": 8,
     "metadata": {},
     "output_type": "execute_result"
    }
   ],
   "source": [
    "a = np.array([0,1,2])\n",
    "a"
   ]
  },
  {
   "cell_type": "code",
   "execution_count": 9,
   "id": "071bb8a4-a38b-4872-adfd-5a61a4fcc774",
   "metadata": {},
   "outputs": [
    {
     "data": {
      "text/plain": [
       "(3,)"
      ]
     },
     "execution_count": 9,
     "metadata": {},
     "output_type": "execute_result"
    }
   ],
   "source": [
    "a.shape"
   ]
  },
  {
   "cell_type": "code",
   "execution_count": 10,
   "id": "6affe71f-e707-4f67-bada-e2d7dcd7e68a",
   "metadata": {},
   "outputs": [
    {
     "data": {
      "text/plain": [
       "array([[0, 1, 2],\n",
       "       [3, 4, 5]])"
      ]
     },
     "execution_count": 10,
     "metadata": {},
     "output_type": "execute_result"
    }
   ],
   "source": [
    "A = np.array([[0,1,2],[3,4,5]])\n",
    "A"
   ]
  },
  {
   "cell_type": "code",
   "execution_count": 11,
   "id": "e3d2b6e4-94d1-4857-92ca-2418e05e3ddd",
   "metadata": {},
   "outputs": [
    {
     "data": {
      "text/plain": [
       "(2, 3)"
      ]
     },
     "execution_count": 11,
     "metadata": {},
     "output_type": "execute_result"
    }
   ],
   "source": [
    "A.shape"
   ]
  },
  {
   "cell_type": "markdown",
   "id": "54fdcf99-e7a8-4386-9f0c-63e41cb441b7",
   "metadata": {},
   "source": [
    "## 3. NumPy arrays != Lists"
   ]
  },
  {
   "cell_type": "code",
   "execution_count": 12,
   "id": "0f457473-eb68-4fa7-b44f-93c956b2b19e",
   "metadata": {},
   "outputs": [
    {
     "data": {
      "text/plain": [
       "[0, 1, 2, 3]"
      ]
     },
     "execution_count": 12,
     "metadata": {},
     "output_type": "execute_result"
    }
   ],
   "source": [
    "a = list(range(4))\n",
    "a"
   ]
  },
  {
   "cell_type": "code",
   "execution_count": 13,
   "id": "f60954a4-c8f0-4c0e-b93d-a8f4fc7f7303",
   "metadata": {},
   "outputs": [
    {
     "data": {
      "text/plain": [
       "[0, 1, 2, 3, 0, 1, 2, 3]"
      ]
     },
     "execution_count": 13,
     "metadata": {},
     "output_type": "execute_result"
    }
   ],
   "source": [
    "a * 2 # * replicates"
   ]
  },
  {
   "cell_type": "code",
   "execution_count": 14,
   "id": "0705295b-55cb-4fbe-886d-f16368d551a8",
   "metadata": {},
   "outputs": [
    {
     "data": {
      "text/plain": [
       "[0, 1, 2, 3, 0, 1, 2, 3]"
      ]
     },
     "execution_count": 14,
     "metadata": {},
     "output_type": "execute_result"
    }
   ],
   "source": [
    "a + a # + concatenates"
   ]
  },
  {
   "cell_type": "code",
   "execution_count": 15,
   "id": "9e44a1ed-814f-413d-904a-2ddb058fab9a",
   "metadata": {},
   "outputs": [
    {
     "data": {
      "text/plain": [
       "[0, 1, 2, 3, 10]"
      ]
     },
     "execution_count": 15,
     "metadata": {},
     "output_type": "execute_result"
    }
   ],
   "source": [
    "a.append(10)\n",
    "a"
   ]
  },
  {
   "cell_type": "code",
   "execution_count": 16,
   "id": "2108e762-84ad-4737-9159-6850f54c2914",
   "metadata": {},
   "outputs": [
    {
     "data": {
      "text/plain": [
       "array([0, 1, 2, 3])"
      ]
     },
     "execution_count": 16,
     "metadata": {},
     "output_type": "execute_result"
    }
   ],
   "source": [
    "a = np.arange(4)\n",
    "a"
   ]
  },
  {
   "cell_type": "code",
   "execution_count": 17,
   "id": "48011a30-ee70-4bd2-bfa3-f1903adb9903",
   "metadata": {},
   "outputs": [
    {
     "data": {
      "text/plain": [
       "array([0, 2, 4, 6])"
      ]
     },
     "execution_count": 17,
     "metadata": {},
     "output_type": "execute_result"
    }
   ],
   "source": [
    "a * 2 # * element-wise multiplies"
   ]
  },
  {
   "cell_type": "code",
   "execution_count": 18,
   "id": "d86bcdf1-e8c7-4308-a927-108385789a35",
   "metadata": {},
   "outputs": [
    {
     "data": {
      "text/plain": [
       "array([0, 2, 4, 6])"
      ]
     },
     "execution_count": 18,
     "metadata": {},
     "output_type": "execute_result"
    }
   ],
   "source": [
    "a + a # * element-wise sum"
   ]
  },
  {
   "cell_type": "code",
   "execution_count": 19,
   "id": "64086c35-107d-4786-8ce3-8d4ad888070b",
   "metadata": {},
   "outputs": [
    {
     "data": {
      "text/plain": [
       "array([ 0,  1,  2,  3, 10])"
      ]
     },
     "execution_count": 19,
     "metadata": {},
     "output_type": "execute_result"
    }
   ],
   "source": [
    "a = np.append(a, 10)\n",
    "a"
   ]
  },
  {
   "cell_type": "markdown",
   "id": "e859f528-c2ff-4b6c-85a6-e91f31752a6e",
   "metadata": {},
   "source": [
    "## 5. Numpy array indexing"
   ]
  },
  {
   "cell_type": "markdown",
   "id": "265970e8-a4aa-43b4-8ab4-d05dca58824d",
   "metadata": {},
   "source": [
    "### A list of lists"
   ]
  },
  {
   "cell_type": "code",
   "execution_count": 20,
   "id": "db560547-3281-4b56-80ff-3a6ff430efec",
   "metadata": {},
   "outputs": [
    {
     "data": {
      "text/plain": [
       "[[0, 1, 2], [3, 4, 5]]"
      ]
     },
     "execution_count": 20,
     "metadata": {},
     "output_type": "execute_result"
    }
   ],
   "source": [
    "A = [[0,1,2], [3,4,5]]\n",
    "A"
   ]
  },
  {
   "cell_type": "code",
   "execution_count": 21,
   "id": "3603b52d-e842-4ee1-81d0-f89778fb343a",
   "metadata": {},
   "outputs": [
    {
     "data": {
      "text/plain": [
       "0"
      ]
     },
     "execution_count": 21,
     "metadata": {},
     "output_type": "execute_result"
    }
   ],
   "source": [
    "A[0][0] # Return 1st row, 1st column"
   ]
  },
  {
   "cell_type": "code",
   "execution_count": 22,
   "id": "1c9921d6-3a2f-498d-9251-436f4f3b02ed",
   "metadata": {},
   "outputs": [
    {
     "data": {
      "text/plain": [
       "[0, 1, 2]"
      ]
     },
     "execution_count": 22,
     "metadata": {},
     "output_type": "execute_result"
    }
   ],
   "source": [
    "A[0] # 1st row"
   ]
  },
  {
   "cell_type": "code",
   "execution_count": 23,
   "id": "ccf02d09-a5e6-4575-95e2-74c63aee3beb",
   "metadata": {},
   "outputs": [
    {
     "data": {
      "text/plain": [
       "[0, 3]"
      ]
     },
     "execution_count": 23,
     "metadata": {},
     "output_type": "execute_result"
    }
   ],
   "source": [
    "[item[0] for item in A] # 1st column: Too complicated!"
   ]
  },
  {
   "cell_type": "code",
   "execution_count": 24,
   "id": "164d32c8",
   "metadata": {},
   "outputs": [
    {
     "data": {
      "text/plain": [
       "[0, 3]"
      ]
     },
     "execution_count": 24,
     "metadata": {},
     "output_type": "execute_result"
    }
   ],
   "source": [
    "first_column = []\n",
    "# Iterate through the rows in A\n",
    "for row in A:\n",
    "    # Append the first element (column) of each row to the first_column list\n",
    "    first_column.append(row[0])\n",
    "first_column  "
   ]
  },
  {
   "cell_type": "markdown",
   "id": "8b3efb74-a983-4358-ad56-fd0ed53480eb",
   "metadata": {},
   "source": [
    "### A Numpy matrix"
   ]
  },
  {
   "cell_type": "code",
   "execution_count": 25,
   "id": "72764973-b4a6-429f-8859-5a83d792c64a",
   "metadata": {},
   "outputs": [
    {
     "data": {
      "text/plain": [
       "array([[0, 1, 2],\n",
       "       [3, 4, 5]])"
      ]
     },
     "execution_count": 25,
     "metadata": {},
     "output_type": "execute_result"
    }
   ],
   "source": [
    "A = np.array([[0,1,2], [3,4,5]])\n",
    "A"
   ]
  },
  {
   "cell_type": "code",
   "execution_count": 26,
   "id": "e8ca8e5d-16c2-4699-9601-eb48a9e605a9",
   "metadata": {},
   "outputs": [
    {
     "data": {
      "text/plain": [
       "0"
      ]
     },
     "execution_count": 26,
     "metadata": {},
     "output_type": "execute_result"
    }
   ],
   "source": [
    "A[0,0] # 1st row, 1st column"
   ]
  },
  {
   "cell_type": "code",
   "execution_count": 27,
   "id": "bec52f85-6cda-42e5-9950-6158cbc760ab",
   "metadata": {},
   "outputs": [
    {
     "data": {
      "text/plain": [
       "array([0, 1, 2])"
      ]
     },
     "execution_count": 27,
     "metadata": {},
     "output_type": "execute_result"
    }
   ],
   "source": [
    "A[0,:] # 1st row"
   ]
  },
  {
   "cell_type": "code",
   "execution_count": 28,
   "id": "ca4c1167-1510-49d5-b197-0bba1475abbb",
   "metadata": {},
   "outputs": [
    {
     "data": {
      "text/plain": [
       "array([0, 3])"
      ]
     },
     "execution_count": 28,
     "metadata": {},
     "output_type": "execute_result"
    }
   ],
   "source": [
    "A[:,0] # 1st column"
   ]
  },
  {
   "cell_type": "markdown",
   "id": "12edd175-25c5-4095-8026-a5133119f6c5",
   "metadata": {},
   "source": [
    "## 6. Slice notation"
   ]
  },
  {
   "cell_type": "code",
   "execution_count": 29,
   "id": "7cc3e022-2dc4-45d8-b8d3-f9fe8c8b0ef5",
   "metadata": {},
   "outputs": [
    {
     "data": {
      "text/plain": [
       "array([0, 1, 2, 3, 4, 5, 6, 7, 8, 9])"
      ]
     },
     "execution_count": 29,
     "metadata": {},
     "output_type": "execute_result"
    }
   ],
   "source": [
    "x = np.arange(10)\n",
    "x"
   ]
  },
  {
   "cell_type": "code",
   "execution_count": 30,
   "id": "5ae68f4f-3747-4a16-8df4-bb4cd428e737",
   "metadata": {},
   "outputs": [
    {
     "data": {
      "text/plain": [
       "array([0, 1])"
      ]
     },
     "execution_count": 30,
     "metadata": {},
     "output_type": "execute_result"
    }
   ],
   "source": [
    "x[0:2] # SAme as x[[0,1]]"
   ]
  },
  {
   "cell_type": "code",
   "execution_count": 31,
   "id": "fcce91d0-1394-4bfc-bfc3-76c70a204fbc",
   "metadata": {},
   "outputs": [
    {
     "data": {
      "text/plain": [
       "array([0, 1])"
      ]
     },
     "execution_count": 31,
     "metadata": {},
     "output_type": "execute_result"
    }
   ],
   "source": [
    "x[[0,1]]"
   ]
  },
  {
   "cell_type": "code",
   "execution_count": 32,
   "id": "f89e011d-3e64-4444-a083-c2deec5f37ca",
   "metadata": {},
   "outputs": [
    {
     "data": {
      "text/plain": [
       "array([0, 1])"
      ]
     },
     "execution_count": 32,
     "metadata": {},
     "output_type": "execute_result"
    }
   ],
   "source": [
    "x[range(2)]"
   ]
  },
  {
   "cell_type": "code",
   "execution_count": 33,
   "id": "1c87ee6b-d5eb-4d42-a0d0-ccdacbe3efbb",
   "metadata": {},
   "outputs": [
    {
     "data": {
      "text/plain": [
       "array([1, 2, 3, 4, 5, 6, 7, 8, 9])"
      ]
     },
     "execution_count": 33,
     "metadata": {},
     "output_type": "execute_result"
    }
   ],
   "source": [
    "x[1:] # Same as x[range(1, len(x))]"
   ]
  },
  {
   "cell_type": "code",
   "execution_count": 34,
   "id": "d42a8d31-5dfa-4580-a218-ec210711ed21",
   "metadata": {},
   "outputs": [
    {
     "data": {
      "text/plain": [
       "array([1, 2, 3, 4, 5, 6, 7, 8, 9])"
      ]
     },
     "execution_count": 34,
     "metadata": {},
     "output_type": "execute_result"
    }
   ],
   "source": [
    "x[range(1, len(x))]"
   ]
  },
  {
   "cell_type": "code",
   "execution_count": 35,
   "id": "588ec63c-fa44-4ec0-b4d2-80cf16ab1f31",
   "metadata": {},
   "outputs": [
    {
     "data": {
      "text/plain": [
       "array([0, 1, 2, 3, 4])"
      ]
     },
     "execution_count": 35,
     "metadata": {},
     "output_type": "execute_result"
    }
   ],
   "source": [
    "x[:5]"
   ]
  },
  {
   "cell_type": "code",
   "execution_count": 36,
   "id": "94f1ed06-33e7-4c6f-b514-636c4cbc7821",
   "metadata": {},
   "outputs": [
    {
     "data": {
      "text/plain": [
       "array([0, 1, 2, 3, 4])"
      ]
     },
     "execution_count": 36,
     "metadata": {},
     "output_type": "execute_result"
    }
   ],
   "source": [
    "x[range(5)]"
   ]
  },
  {
   "cell_type": "code",
   "execution_count": 37,
   "id": "00594b25-8a68-4231-aa91-8976f0944cbc",
   "metadata": {},
   "outputs": [
    {
     "data": {
      "text/plain": [
       "array([0, 1, 2, 3, 4, 5, 6, 7, 8, 9])"
      ]
     },
     "execution_count": 37,
     "metadata": {},
     "output_type": "execute_result"
    }
   ],
   "source": [
    "x[:]"
   ]
  },
  {
   "cell_type": "code",
   "execution_count": 38,
   "id": "d4f08d58-7937-47fc-99a7-2b23c0e6cfdd",
   "metadata": {},
   "outputs": [
    {
     "data": {
      "text/plain": [
       "array([0, 1, 2, 3, 4, 5, 6, 7, 8, 9])"
      ]
     },
     "execution_count": 38,
     "metadata": {},
     "output_type": "execute_result"
    }
   ],
   "source": [
    "x[range(len(x))]"
   ]
  },
  {
   "cell_type": "code",
   "execution_count": 39,
   "id": "7e5467cd-4912-47fb-844a-f9326610258e",
   "metadata": {},
   "outputs": [
    {
     "data": {
      "text/plain": [
       "array([9, 8, 7, 6, 5, 4, 3, 2, 1])"
      ]
     },
     "execution_count": 39,
     "metadata": {},
     "output_type": "execute_result"
    }
   ],
   "source": [
    "x[:0:-1]"
   ]
  },
  {
   "cell_type": "code",
   "execution_count": 40,
   "id": "ec131ba8",
   "metadata": {},
   "outputs": [
    {
     "data": {
      "text/plain": [
       "array([9, 8, 7, 6, 5, 4, 3, 2, 1, 0])"
      ]
     },
     "execution_count": 40,
     "metadata": {},
     "output_type": "execute_result"
    }
   ],
   "source": [
    "x[::-1]"
   ]
  },
  {
   "cell_type": "markdown",
   "id": "68f6da52-8e9d-4fd0-afde-6df0b45bb086",
   "metadata": {},
   "source": [
    "## 7. Boolean indexing"
   ]
  },
  {
   "cell_type": "markdown",
   "id": "d19046fd-2388-4302-9d19-7ce86cfcb49c",
   "metadata": {},
   "source": [
    "#### A Numpy vector"
   ]
  },
  {
   "cell_type": "code",
   "execution_count": 41,
   "id": "b2a7b732-7f89-45d1-ae61-f7c0c91e5c78",
   "metadata": {},
   "outputs": [
    {
     "data": {
      "text/plain": [
       "array([False,  True, False,  True, False,  True])"
      ]
     },
     "execution_count": 41,
     "metadata": {},
     "output_type": "execute_result"
    }
   ],
   "source": [
    "x = np.array([0,3,1,4,2,5])\n",
    "x > 2"
   ]
  },
  {
   "cell_type": "code",
   "execution_count": 42,
   "id": "b15fbfdc-7f7f-40e5-b47e-cd2bc7808eee",
   "metadata": {},
   "outputs": [
    {
     "data": {
      "text/plain": [
       "array([3, 4, 5])"
      ]
     },
     "execution_count": 42,
     "metadata": {},
     "output_type": "execute_result"
    }
   ],
   "source": [
    "x[x > 2]"
   ]
  },
  {
   "cell_type": "markdown",
   "id": "858519da-b866-41ee-9d73-fb453bd69b46",
   "metadata": {},
   "source": [
    "#### A list"
   ]
  },
  {
   "cell_type": "code",
   "execution_count": 43,
   "id": "461fd776-1e91-40ca-b461-bc523d69478e",
   "metadata": {},
   "outputs": [],
   "source": [
    "x = [0,3,1,4,2,5]\n",
    "# x[x > 2]"
   ]
  },
  {
   "cell_type": "code",
   "execution_count": 44,
   "id": "333c9f85",
   "metadata": {},
   "outputs": [
    {
     "data": {
      "text/plain": [
       "[3, 4, 5]"
      ]
     },
     "execution_count": 44,
     "metadata": {},
     "output_type": "execute_result"
    }
   ],
   "source": [
    "x = [item for item in x if item > 2]\n",
    "x"
   ]
  },
  {
   "cell_type": "markdown",
   "id": "170e1601-064f-49f3-aa22-8b36d005631a",
   "metadata": {},
   "source": [
    "#### A Numpy Matrix"
   ]
  },
  {
   "cell_type": "code",
   "execution_count": 45,
   "id": "52fe8bf5-b980-44fd-a62e-7adf38f5f36f",
   "metadata": {},
   "outputs": [
    {
     "data": {
      "text/plain": [
       "array([[False,  True, False],\n",
       "       [ True, False,  True]])"
      ]
     },
     "execution_count": 45,
     "metadata": {},
     "output_type": "execute_result"
    }
   ],
   "source": [
    "A = np.array([[0,3,1], [4,2,5]])\n",
    "A > 2"
   ]
  },
  {
   "cell_type": "code",
   "execution_count": 46,
   "id": "f96288e3",
   "metadata": {},
   "outputs": [
    {
     "data": {
      "text/plain": [
       "array([3, 4, 5])"
      ]
     },
     "execution_count": 46,
     "metadata": {},
     "output_type": "execute_result"
    }
   ],
   "source": [
    "A[A > 2]"
   ]
  },
  {
   "cell_type": "markdown",
   "id": "c46c5cab-346d-4414-a83f-a90b634b42ad",
   "metadata": {},
   "source": [
    "## 8. Copies vs Views"
   ]
  },
  {
   "cell_type": "code",
   "execution_count": 47,
   "id": "6a2ec44d-0e4f-4603-99f2-68070bd92050",
   "metadata": {},
   "outputs": [],
   "source": [
    "A = np.array([[0,1,2], [3,4,5]])\n",
    "B = A"
   ]
  },
  {
   "cell_type": "code",
   "execution_count": 48,
   "id": "c529bb34-2b50-404e-bca7-10b57d24f51b",
   "metadata": {},
   "outputs": [
    {
     "data": {
      "text/plain": [
       "10"
      ]
     },
     "execution_count": 48,
     "metadata": {},
     "output_type": "execute_result"
    }
   ],
   "source": [
    "B[0,0] = 10\n",
    "A[0,0]"
   ]
  },
  {
   "cell_type": "code",
   "execution_count": 49,
   "id": "ec5c26fb-472a-44c0-8557-d8540847fba4",
   "metadata": {},
   "outputs": [
    {
     "data": {
      "text/plain": [
       "10"
      ]
     },
     "execution_count": 49,
     "metadata": {},
     "output_type": "execute_result"
    }
   ],
   "source": [
    "B = A.copy()\n",
    "B[0,0] = 20\n",
    "A[0,0]"
   ]
  },
  {
   "cell_type": "code",
   "execution_count": 50,
   "id": "1de3eca4-ed2c-4942-a5ba-7f950b0aaa46",
   "metadata": {},
   "outputs": [],
   "source": [
    "A[0,0]=1\n",
    "row0 = A[0,:]"
   ]
  },
  {
   "cell_type": "code",
   "execution_count": 51,
   "id": "98113326-7663-465e-a4e7-85a696aa327e",
   "metadata": {},
   "outputs": [],
   "source": [
    "row0[0] = 5"
   ]
  },
  {
   "cell_type": "code",
   "execution_count": 52,
   "id": "7588662c-4bf6-4682-b8b9-e5edefcee8fc",
   "metadata": {},
   "outputs": [
    {
     "data": {
      "text/plain": [
       "5"
      ]
     },
     "execution_count": 52,
     "metadata": {},
     "output_type": "execute_result"
    }
   ],
   "source": [
    "A[0,0]"
   ]
  },
  {
   "cell_type": "code",
   "execution_count": 53,
   "id": "35f8ff77-2d7f-4130-9ed3-1a7ab0539747",
   "metadata": {},
   "outputs": [],
   "source": [
    "slice_copy = A[0,:].copy()"
   ]
  },
  {
   "cell_type": "code",
   "execution_count": 54,
   "id": "0bab07d5-d146-48f0-a8f6-7c4ef3afe5dd",
   "metadata": {},
   "outputs": [
    {
     "data": {
      "text/plain": [
       "array([ True,  True,  True])"
      ]
     },
     "execution_count": 54,
     "metadata": {},
     "output_type": "execute_result"
    }
   ],
   "source": [
    "slice_copy==A[0,:]"
   ]
  },
  {
   "cell_type": "markdown",
   "id": "55ca125a-5971-4d6d-be16-5842e6bd3bd2",
   "metadata": {},
   "source": [
    "## 9. Example: Gains and losses"
   ]
  },
  {
   "cell_type": "code",
   "execution_count": 55,
   "id": "3ea99147-2f22-4385-9b23-a2fa4185c5e5",
   "metadata": {},
   "outputs": [],
   "source": [
    "X = np.random.randint(-100,100, size=(10*365, 500))"
   ]
  },
  {
   "cell_type": "markdown",
   "id": "b0e3db49-daf4-4844-bb04-23d60c43c300",
   "metadata": {},
   "source": [
    "#### For-loop"
   ]
  },
  {
   "cell_type": "code",
   "execution_count": 56,
   "id": "6e6ae83d-92f9-44b8-8872-c61fb318c24d",
   "metadata": {},
   "outputs": [
    {
     "name": "stdout",
     "output_type": "stream",
     "text": [
      "Time: 0.6244191670557484 seconds\n"
     ]
    }
   ],
   "source": [
    "start = timer()\n",
    "gains = 0\n",
    "losses = 0\n",
    "for t in range(X.shape[0]):\n",
    "    for j in range(X.shape[1]):\n",
    "        if X[t,j] > 0:\n",
    "            gains += X[t,j]\n",
    "        else:\n",
    "            losses += X[t,j]\n",
    "print(f\"Time: {timer() - start} seconds\")"
   ]
  },
  {
   "cell_type": "markdown",
   "id": "7aa92047-2a6f-4327-a633-08874da65817",
   "metadata": {},
   "source": [
    "#### No-loop"
   ]
  },
  {
   "cell_type": "code",
   "execution_count": 57,
   "id": "502d11ef-12e0-42b0-af50-445361b18829",
   "metadata": {},
   "outputs": [
    {
     "name": "stdout",
     "output_type": "stream",
     "text": [
      "Time: 0.025519750081002712 seconds\n"
     ]
    }
   ],
   "source": [
    "start = timer()\n",
    "gains = np.sum(X[X > 0])\n",
    "losses = np.sum(X[X < 0])\n",
    "print(f\"Time: {timer() - start} seconds\")\n",
    "# The syntax print(f\"\") in Python refers to an f-string, which stands for \"formatted string literals.\" \n",
    "# Inside an f-string, you can include expressions inside {} braces,\n",
    "# which will then be evaluated at runtime and then formatted using the provided format string."
   ]
  },
  {
   "cell_type": "markdown",
   "id": "b86694b8-2390-4e6e-9655-8e5a0d276dd8",
   "metadata": {},
   "source": [
    "## 10. Element-wise operators"
   ]
  },
  {
   "cell_type": "code",
   "execution_count": 58,
   "id": "17cc71fa-85b6-46cb-8e4a-c21302b48ece",
   "metadata": {},
   "outputs": [
    {
     "data": {
      "text/plain": [
       "array([[3, 2, 1],\n",
       "       [4, 5, 6]])"
      ]
     },
     "execution_count": 58,
     "metadata": {},
     "output_type": "execute_result"
    }
   ],
   "source": [
    "A = np.array([[3,2,1],[4,5,6]])\n",
    "A"
   ]
  },
  {
   "cell_type": "code",
   "execution_count": 59,
   "id": "13b97f0d-5950-4416-b8b2-fd7b067a74fe",
   "metadata": {},
   "outputs": [
    {
     "data": {
      "text/plain": [
       "array([[ 6,  4,  2],\n",
       "       [ 8, 10, 12]])"
      ]
     },
     "execution_count": 59,
     "metadata": {},
     "output_type": "execute_result"
    }
   ],
   "source": [
    "A * 2"
   ]
  },
  {
   "cell_type": "code",
   "execution_count": 60,
   "id": "14390281-3f2a-475a-9149-a2a5f9c77988",
   "metadata": {},
   "outputs": [
    {
     "data": {
      "text/plain": [
       "array([[ 9,  4,  1],\n",
       "       [16, 25, 36]])"
      ]
     },
     "execution_count": 60,
     "metadata": {},
     "output_type": "execute_result"
    }
   ],
   "source": [
    "A**2"
   ]
  },
  {
   "cell_type": "code",
   "execution_count": 61,
   "id": "235e786a-4810-459a-b832-3c593a0a18b2",
   "metadata": {},
   "outputs": [
    {
     "data": {
      "text/plain": [
       "array([[ 9,  4,  1],\n",
       "       [16, 25, 36]])"
      ]
     },
     "execution_count": 61,
     "metadata": {},
     "output_type": "execute_result"
    }
   ],
   "source": [
    "A * A"
   ]
  },
  {
   "cell_type": "code",
   "execution_count": 62,
   "id": "5de22251-0e80-45af-97ef-620fa18b4902",
   "metadata": {},
   "outputs": [
    {
     "data": {
      "text/plain": [
       "array([[14, 28],\n",
       "       [28, 77]])"
      ]
     },
     "execution_count": 62,
     "metadata": {},
     "output_type": "execute_result"
    }
   ],
   "source": [
    "np.dot(A, np.transpose(A)) # Matrix multiplication https://en.wikipedia.org/wiki/Matrix_multiplication"
   ]
  },
  {
   "cell_type": "markdown",
   "id": "d94e5a8e",
   "metadata": {},
   "source": [
    "#### Broadcasting"
   ]
  },
  {
   "cell_type": "code",
   "execution_count": 63,
   "id": "d0870097-5d7c-4027-a2e2-f1a267cf33b5",
   "metadata": {},
   "outputs": [
    {
     "data": {
      "text/plain": [
       "array([[3, 3, 3],\n",
       "       [4, 6, 8]])"
      ]
     },
     "execution_count": 63,
     "metadata": {},
     "output_type": "execute_result"
    }
   ],
   "source": [
    "x = np.array([0,1,2])\n",
    "A + x"
   ]
  },
  {
   "cell_type": "markdown",
   "id": "18a839e1-39ba-4fd2-b434-d2e3c4b1f5c7",
   "metadata": {},
   "source": [
    "## 11. Broadcasting"
   ]
  },
  {
   "cell_type": "code",
   "execution_count": 64,
   "id": "fdb55d9a-ac3d-4558-bd27-bcd3ae7c1898",
   "metadata": {},
   "outputs": [
    {
     "data": {
      "text/plain": [
       "array([ 0, 10, 20, 30])"
      ]
     },
     "execution_count": 64,
     "metadata": {},
     "output_type": "execute_result"
    }
   ],
   "source": [
    "x = np.array([0,10,20,30])\n",
    "x"
   ]
  },
  {
   "cell_type": "code",
   "execution_count": 65,
   "id": "27076624-98c1-4348-b48d-5d2a841cd248",
   "metadata": {},
   "outputs": [
    {
     "data": {
      "text/plain": [
       "array([[ 0],\n",
       "       [10],\n",
       "       [20],\n",
       "       [30]])"
      ]
     },
     "execution_count": 65,
     "metadata": {},
     "output_type": "execute_result"
    }
   ],
   "source": [
    "x.reshape((4,1))"
   ]
  },
  {
   "cell_type": "code",
   "execution_count": 66,
   "id": "ab65037c-dda0-4a25-af1d-5308fc3cb59d",
   "metadata": {},
   "outputs": [
    {
     "data": {
      "text/plain": [
       "array([[ 0, 10],\n",
       "       [20, 30]])"
      ]
     },
     "execution_count": 66,
     "metadata": {},
     "output_type": "execute_result"
    }
   ],
   "source": [
    "x.reshape((2,2))"
   ]
  },
  {
   "cell_type": "code",
   "execution_count": 67,
   "id": "146a3dd1",
   "metadata": {},
   "outputs": [
    {
     "data": {
      "text/plain": [
       "array([[ 0,  1,  2],\n",
       "       [10, 11, 12],\n",
       "       [20, 21, 22],\n",
       "       [30, 31, 32]])"
      ]
     },
     "execution_count": 67,
     "metadata": {},
     "output_type": "execute_result"
    }
   ],
   "source": [
    "x = np.array([0,10,20,30])\n",
    "y = np.array([0,1,2])\n",
    "x[:, np.newaxis] + y\n"
   ]
  },
  {
   "cell_type": "code",
   "execution_count": null,
   "id": "c35b9f69",
   "metadata": {},
   "outputs": [],
   "source": []
  },
  {
   "cell_type": "markdown",
   "id": "15e59e16-a598-459c-a272-e874981479a3",
   "metadata": {},
   "source": [
    "## 12. Example: Total of outer product"
   ]
  },
  {
   "cell_type": "code",
   "execution_count": 68,
   "id": "42342518-ccb5-456a-a470-b425501ebde2",
   "metadata": {},
   "outputs": [],
   "source": [
    "x = np.array([1,10,20,30])\n",
    "y = np.array([2,3,4,5])\n",
    "n = x.shape[0]"
   ]
  },
  {
   "cell_type": "markdown",
   "id": "55655a4a-e6e2-427e-b390-b9c0e14c245c",
   "metadata": {},
   "source": [
    "#### for-loops"
   ]
  },
  {
   "cell_type": "code",
   "execution_count": 69,
   "id": "c0120d90-7cd5-474b-9e81-1ea583df83d9",
   "metadata": {},
   "outputs": [
    {
     "name": "stdout",
     "output_type": "stream",
     "text": [
      "854\n"
     ]
    }
   ],
   "source": [
    "total = 0\n",
    "for i in range(n):\n",
    "    for j in range(n):\n",
    "        total += x[i] * y[j]\n",
    "print(total)"
   ]
  },
  {
   "cell_type": "markdown",
   "id": "bba670dd-de37-4797-aaca-662f974fb808",
   "metadata": {},
   "source": [
    "#### No loops!"
   ]
  },
  {
   "cell_type": "code",
   "execution_count": 70,
   "id": "afaa2825-598b-4956-b2f8-297c713c753a",
   "metadata": {},
   "outputs": [
    {
     "name": "stdout",
     "output_type": "stream",
     "text": [
      "854\n"
     ]
    }
   ],
   "source": [
    "total = np.sum(x.reshape((n,1)) * y)\n",
    "print(total)"
   ]
  },
  {
   "cell_type": "markdown",
   "id": "27f472b4",
   "metadata": {},
   "source": [
    "### Quiz: Broadcasting and reshape"
   ]
  },
  {
   "cell_type": "code",
   "execution_count": 71,
   "id": "8c85c00f",
   "metadata": {},
   "outputs": [
    {
     "data": {
      "text/plain": [
       "array([1, 2])"
      ]
     },
     "execution_count": 71,
     "metadata": {},
     "output_type": "execute_result"
    }
   ],
   "source": [
    "import numpy as np\n",
    "x = np.array([1, 2])\n",
    "x"
   ]
  },
  {
   "cell_type": "code",
   "execution_count": 72,
   "id": "caee2efa",
   "metadata": {},
   "outputs": [
    {
     "data": {
      "text/plain": [
       "array([[3],\n",
       "       [4]])"
      ]
     },
     "execution_count": 72,
     "metadata": {},
     "output_type": "execute_result"
    }
   ],
   "source": [
    "y = np.array([[3], [4]])\n",
    "y"
   ]
  },
  {
   "cell_type": "code",
   "execution_count": 73,
   "id": "e2bf216a",
   "metadata": {},
   "outputs": [
    {
     "data": {
      "text/plain": [
       "array([[4, 5],\n",
       "       [5, 6]])"
      ]
     },
     "execution_count": 73,
     "metadata": {},
     "output_type": "execute_result"
    }
   ],
   "source": [
    "x+y"
   ]
  },
  {
   "cell_type": "markdown",
   "id": "957490d5-bd22-4c57-b8ee-f2c9f2287203",
   "metadata": {},
   "source": [
    "## 13. Aggregations and reductions"
   ]
  },
  {
   "cell_type": "code",
   "execution_count": 74,
   "id": "e92f0619-a822-42f1-aad7-f18b77e0f095",
   "metadata": {},
   "outputs": [
    {
     "data": {
      "text/plain": [
       "array([[0, 1, 2],\n",
       "       [3, 4, 5]])"
      ]
     },
     "execution_count": 74,
     "metadata": {},
     "output_type": "execute_result"
    }
   ],
   "source": [
    "import numpy as np\n",
    "A = np.array([[0,1,2],[3,4,5]])\n",
    "A"
   ]
  },
  {
   "cell_type": "code",
   "execution_count": 75,
   "id": "6658bbf6-3b75-4297-a0f8-bc660e5ffa2f",
   "metadata": {},
   "outputs": [
    {
     "data": {
      "text/plain": [
       "0"
      ]
     },
     "execution_count": 75,
     "metadata": {},
     "output_type": "execute_result"
    }
   ],
   "source": [
    "np.min(A)"
   ]
  },
  {
   "cell_type": "code",
   "execution_count": 76,
   "id": "48cd4f1b-d53d-4354-987c-2ea4e16513e2",
   "metadata": {},
   "outputs": [
    {
     "data": {
      "text/plain": [
       "array([0, 1, 2])"
      ]
     },
     "execution_count": 76,
     "metadata": {},
     "output_type": "execute_result"
    }
   ],
   "source": [
    "np.min(A,axis=0) #minimum of each column"
   ]
  },
  {
   "cell_type": "code",
   "execution_count": 77,
   "id": "a673d441-a165-46c6-a79d-617fbdfca25c",
   "metadata": {},
   "outputs": [
    {
     "data": {
      "text/plain": [
       "array([0, 3])"
      ]
     },
     "execution_count": 77,
     "metadata": {},
     "output_type": "execute_result"
    }
   ],
   "source": [
    "np.min(A,axis=1) #minimum of each row"
   ]
  },
  {
   "cell_type": "markdown",
   "id": "d76eebca",
   "metadata": {},
   "source": [
    "### Quiz 3: Maximum Mean Squared Error"
   ]
  },
  {
   "cell_type": "code",
   "execution_count": 78,
   "id": "c9b80dd1",
   "metadata": {},
   "outputs": [
    {
     "data": {
      "text/plain": [
       "array([[0, 1, 2],\n",
       "       [3, 4, 5]])"
      ]
     },
     "execution_count": 78,
     "metadata": {},
     "output_type": "execute_result"
    }
   ],
   "source": [
    "P = np.array([[0,1,2],[3,4,5]])\n",
    "P"
   ]
  },
  {
   "cell_type": "code",
   "execution_count": 79,
   "id": "babe7263",
   "metadata": {},
   "outputs": [
    {
     "data": {
      "text/plain": [
       "array([3, 1, 1])"
      ]
     },
     "execution_count": 79,
     "metadata": {},
     "output_type": "execute_result"
    }
   ],
   "source": [
    "obs = np.array([3,1,1])\n",
    "obs"
   ]
  },
  {
   "cell_type": "code",
   "execution_count": 80,
   "id": "742c7d80",
   "metadata": {},
   "outputs": [
    {
     "data": {
      "text/plain": [
       "array([3.33333333, 8.33333333])"
      ]
     },
     "execution_count": 80,
     "metadata": {},
     "output_type": "execute_result"
    }
   ],
   "source": [
    "np.mean((P-obs)**2,axis = 1)# axix = 1, along columns direction, operate on each row"
   ]
  },
  {
   "cell_type": "code",
   "execution_count": 81,
   "id": "019e5120",
   "metadata": {},
   "outputs": [
    {
     "data": {
      "text/plain": [
       "8.333333333333334"
      ]
     },
     "execution_count": 81,
     "metadata": {},
     "output_type": "execute_result"
    }
   ],
   "source": [
    "np.max(np.mean((P-obs)**2,axis = 1))"
   ]
  },
  {
   "cell_type": "markdown",
   "id": "4ee84c7d-47ba-470e-abc7-3605dc382247",
   "metadata": {},
   "source": [
    "## 14. Function vs. Methods"
   ]
  },
  {
   "cell_type": "code",
   "execution_count": 82,
   "id": "bdabdcbd-8b55-4ecf-a633-57450d0a7b4d",
   "metadata": {},
   "outputs": [
    {
     "data": {
      "text/plain": [
       "0"
      ]
     },
     "execution_count": 82,
     "metadata": {},
     "output_type": "execute_result"
    }
   ],
   "source": [
    "np.min(A)"
   ]
  },
  {
   "cell_type": "code",
   "execution_count": 83,
   "id": "0cf340b0-4445-41a1-a15f-226698bf6807",
   "metadata": {},
   "outputs": [
    {
     "data": {
      "text/plain": [
       "0"
      ]
     },
     "execution_count": 83,
     "metadata": {},
     "output_type": "execute_result"
    }
   ],
   "source": [
    "A.min()"
   ]
  },
  {
   "cell_type": "code",
   "execution_count": 84,
   "id": "33cdfdff-bd19-4b9e-946a-41ad728e9c75",
   "metadata": {},
   "outputs": [
    {
     "data": {
      "text/plain": [
       "array([0, 1, 2])"
      ]
     },
     "execution_count": 84,
     "metadata": {},
     "output_type": "execute_result"
    }
   ],
   "source": [
    "np.min(A,axis=0)"
   ]
  },
  {
   "cell_type": "code",
   "execution_count": 85,
   "id": "d3613424-c1cf-4199-8682-3a80ba38b0f4",
   "metadata": {},
   "outputs": [
    {
     "data": {
      "text/plain": [
       "array([0, 1, 2])"
      ]
     },
     "execution_count": 85,
     "metadata": {},
     "output_type": "execute_result"
    }
   ],
   "source": [
    "A.min(axis=0)"
   ]
  },
  {
   "cell_type": "code",
   "execution_count": 86,
   "id": "6c1c7d46-dc30-4861-82a2-2ec2c3c88095",
   "metadata": {},
   "outputs": [
    {
     "data": {
      "text/plain": [
       "1"
      ]
     },
     "execution_count": 86,
     "metadata": {},
     "output_type": "execute_result"
    }
   ],
   "source": [
    "x = [1,2,3]\n",
    "np.min(x)"
   ]
  },
  {
   "cell_type": "markdown",
   "id": "9ed4c979-4c75-4d12-9473-54f52ae590aa",
   "metadata": {},
   "source": [
    "## 15. Boolean arrays: Any vs All"
   ]
  },
  {
   "cell_type": "code",
   "execution_count": 87,
   "id": "83f3a4c3-e644-4b6c-9871-27be0ede9392",
   "metadata": {},
   "outputs": [],
   "source": [
    "b = np.array([1, 1, 0, 0]) # 1 is True, 0 is False"
   ]
  },
  {
   "cell_type": "code",
   "execution_count": 88,
   "id": "a5267616-4310-4c38-b971-5346cd37be6a",
   "metadata": {},
   "outputs": [
    {
     "data": {
      "text/plain": [
       "array([False, False,  True,  True])"
      ]
     },
     "execution_count": 88,
     "metadata": {},
     "output_type": "execute_result"
    }
   ],
   "source": [
    "np.logical_not(b)"
   ]
  },
  {
   "cell_type": "code",
   "execution_count": 89,
   "id": "23135d53-4707-49ea-b7db-d955307238c2",
   "metadata": {},
   "outputs": [
    {
     "data": {
      "text/plain": [
       "array([ True,  True, False, False])"
      ]
     },
     "execution_count": 89,
     "metadata": {},
     "output_type": "execute_result"
    }
   ],
   "source": [
    "np.logical_and(b, b)"
   ]
  },
  {
   "cell_type": "code",
   "execution_count": 90,
   "id": "7b6daa08-92c5-4e40-adf9-5d46d70aeed0",
   "metadata": {},
   "outputs": [
    {
     "data": {
      "text/plain": [
       "array([ True,  True, False, False])"
      ]
     },
     "execution_count": 90,
     "metadata": {},
     "output_type": "execute_result"
    }
   ],
   "source": [
    "np.logical_or(b, b)"
   ]
  },
  {
   "cell_type": "code",
   "execution_count": 91,
   "id": "c71ca9cd-38a9-486a-a727-bf28bf71e9ef",
   "metadata": {},
   "outputs": [
    {
     "data": {
      "text/plain": [
       "False"
      ]
     },
     "execution_count": 91,
     "metadata": {},
     "output_type": "execute_result"
    }
   ],
   "source": [
    "np.all(b) # all TRUE?"
   ]
  },
  {
   "cell_type": "code",
   "execution_count": 92,
   "id": "0cd3939f-4890-4357-9484-fffde6be4041",
   "metadata": {},
   "outputs": [
    {
     "data": {
      "text/plain": [
       "True"
      ]
     },
     "execution_count": 92,
     "metadata": {},
     "output_type": "execute_result"
    }
   ],
   "source": [
    "np.any(b) # any TRUE?"
   ]
  },
  {
   "cell_type": "code",
   "execution_count": 93,
   "id": "40a25e33-4595-425e-bb2d-f40fb3fad087",
   "metadata": {},
   "outputs": [
    {
     "data": {
      "text/plain": [
       "array([False, False,  True])"
      ]
     },
     "execution_count": 93,
     "metadata": {},
     "output_type": "execute_result"
    }
   ],
   "source": [
    "B = np.array([[1,0,1],[0,1,1]])\n",
    "np.all(B, axis = 0)"
   ]
  },
  {
   "cell_type": "code",
   "execution_count": 94,
   "id": "4f827413-524d-45a7-b03b-e646e5ec4655",
   "metadata": {},
   "outputs": [
    {
     "data": {
      "text/plain": [
       "array([ True,  True])"
      ]
     },
     "execution_count": 94,
     "metadata": {},
     "output_type": "execute_result"
    }
   ],
   "source": [
    "np.any(B, axis = 1)"
   ]
  },
  {
   "cell_type": "markdown",
   "id": "761cb21e-816d-4515-a936-b21037df770c",
   "metadata": {},
   "source": [
    "### Quiz 4"
   ]
  },
  {
   "cell_type": "code",
   "execution_count": 95,
   "id": "6b6ee483-b3ef-4df8-9376-667aeeda3aea",
   "metadata": {},
   "outputs": [
    {
     "name": "stdout",
     "output_type": "stream",
     "text": [
      "[[-1  2  3]\n",
      " [-4 -5  6]]\n"
     ]
    }
   ],
   "source": [
    "A = np.array([[-1, 2, 3],[-4, -5, 6]]) \n",
    "print(A)"
   ]
  },
  {
   "cell_type": "code",
   "execution_count": 96,
   "id": "4f0c1954-7bd3-44a3-ab68-94c085c0d305",
   "metadata": {},
   "outputs": [
    {
     "data": {
      "text/plain": [
       "True"
      ]
     },
     "execution_count": 96,
     "metadata": {},
     "output_type": "execute_result"
    }
   ],
   "source": [
    "np.any(A < 0)"
   ]
  },
  {
   "cell_type": "code",
   "execution_count": 97,
   "id": "370dc106-a67c-4f9d-8e07-b01aa04a9134",
   "metadata": {},
   "outputs": [
    {
     "data": {
      "text/plain": [
       "False"
      ]
     },
     "execution_count": 97,
     "metadata": {},
     "output_type": "execute_result"
    }
   ],
   "source": [
    "np.all(A < 0)"
   ]
  },
  {
   "cell_type": "code",
   "execution_count": 98,
   "id": "74a54e67-6554-476e-b7f8-92f46bab49aa",
   "metadata": {},
   "outputs": [
    {
     "data": {
      "text/plain": [
       "array([ True, False, False])"
      ]
     },
     "execution_count": 98,
     "metadata": {},
     "output_type": "execute_result"
    }
   ],
   "source": [
    "np.all(A < 0, axis = 0)"
   ]
  },
  {
   "cell_type": "code",
   "execution_count": 99,
   "id": "fc8013c4-923d-4dd0-92d3-25964a99db85",
   "metadata": {},
   "outputs": [
    {
     "data": {
      "text/plain": [
       "array([False, False])"
      ]
     },
     "execution_count": 99,
     "metadata": {},
     "output_type": "execute_result"
    }
   ],
   "source": [
    "np.all(A < 0, axis = 1)"
   ]
  },
  {
   "cell_type": "markdown",
   "id": "d0d19a68-8b79-4923-b42a-63df71f6f90d",
   "metadata": {},
   "source": [
    "## 16. Sorting"
   ]
  },
  {
   "cell_type": "code",
   "execution_count": 100,
   "id": "257e283a-f134-4ee8-b725-938e5bf77092",
   "metadata": {},
   "outputs": [],
   "source": [
    "x = np.random.randint(0,100, size=10)"
   ]
  },
  {
   "cell_type": "code",
   "execution_count": 101,
   "id": "fe580b1b-2f61-4d78-b8b5-8aa30782fdcd",
   "metadata": {},
   "outputs": [
    {
     "data": {
      "text/plain": [
       "array([16, 28, 64, 78, 82, 82, 83, 90, 91, 92])"
      ]
     },
     "execution_count": 101,
     "metadata": {},
     "output_type": "execute_result"
    }
   ],
   "source": [
    "np.sort(x)"
   ]
  },
  {
   "cell_type": "code",
   "execution_count": 102,
   "id": "30e839df-7bcb-48e0-84c3-c5d986dc0d6c",
   "metadata": {},
   "outputs": [
    {
     "data": {
      "text/plain": [
       "array([92, 91, 90, 83, 82, 82, 78, 64, 28, 16])"
      ]
     },
     "execution_count": 102,
     "metadata": {},
     "output_type": "execute_result"
    }
   ],
   "source": [
    "-np.sort(-x)"
   ]
  },
  {
   "cell_type": "code",
   "execution_count": 103,
   "id": "55f7abb5",
   "metadata": {},
   "outputs": [
    {
     "data": {
      "text/plain": [
       "array([[-1,  2,  3],\n",
       "       [-4, -5,  6]])"
      ]
     },
     "execution_count": 103,
     "metadata": {},
     "output_type": "execute_result"
    }
   ],
   "source": [
    "A"
   ]
  },
  {
   "cell_type": "code",
   "execution_count": 122,
   "id": "fc5cf5ff-552d-46e1-b556-273e1942ebc7",
   "metadata": {},
   "outputs": [
    {
     "data": {
      "text/plain": [
       "array([[-1,  2,  3],\n",
       "       [-5, -4,  6]])"
      ]
     },
     "execution_count": 122,
     "metadata": {},
     "output_type": "execute_result"
    }
   ],
   "source": [
    "np.sort(A, axis=0)"
   ]
  },
  {
   "cell_type": "code",
   "execution_count": 105,
   "id": "954d3f84-79f6-400e-93b4-43614c08b30c",
   "metadata": {},
   "outputs": [],
   "source": [
    "x = np.array([11,12,10,9])"
   ]
  },
  {
   "cell_type": "code",
   "execution_count": 106,
   "id": "f9e31c51-8ba6-4b48-962d-1c5617cf73aa",
   "metadata": {},
   "outputs": [
    {
     "data": {
      "text/plain": [
       "array([ 9, 10, 11, 12])"
      ]
     },
     "execution_count": 106,
     "metadata": {},
     "output_type": "execute_result"
    }
   ],
   "source": [
    "np.sort(x)"
   ]
  },
  {
   "cell_type": "code",
   "execution_count": 107,
   "id": "77ab91bb-7df5-45b7-a4b9-3dd60aaf038b",
   "metadata": {},
   "outputs": [
    {
     "data": {
      "text/plain": [
       "array([12, 11, 10,  9])"
      ]
     },
     "execution_count": 107,
     "metadata": {},
     "output_type": "execute_result"
    }
   ],
   "source": [
    "-np.sort(-x)"
   ]
  },
  {
   "cell_type": "markdown",
   "id": "64d62bfc",
   "metadata": {},
   "source": [
    "## Indirect sorting"
   ]
  },
  {
   "cell_type": "code",
   "execution_count": 108,
   "id": "14885034",
   "metadata": {},
   "outputs": [
    {
     "data": {
      "text/plain": [
       "array([12, 11, 10,  9])"
      ]
     },
     "execution_count": 108,
     "metadata": {},
     "output_type": "execute_result"
    }
   ],
   "source": [
    "x = np.array([12,11,10,9])\n",
    "x"
   ]
  },
  {
   "cell_type": "code",
   "execution_count": 109,
   "id": "8380a21b",
   "metadata": {},
   "outputs": [
    {
     "data": {
      "text/plain": [
       "array([ 9, 10, 11, 12])"
      ]
     },
     "execution_count": 109,
     "metadata": {},
     "output_type": "execute_result"
    }
   ],
   "source": [
    "np.sort(x)"
   ]
  },
  {
   "cell_type": "code",
   "execution_count": 110,
   "id": "35b3dc57",
   "metadata": {},
   "outputs": [
    {
     "data": {
      "text/plain": [
       "array([3, 2, 1, 0])"
      ]
     },
     "execution_count": 110,
     "metadata": {},
     "output_type": "execute_result"
    }
   ],
   "source": [
    "np.argsort(x)"
   ]
  },
  {
   "cell_type": "code",
   "execution_count": 111,
   "id": "eee1da6f",
   "metadata": {},
   "outputs": [
    {
     "data": {
      "text/plain": [
       "array([ 9, 10, 11, 12])"
      ]
     },
     "execution_count": 111,
     "metadata": {},
     "output_type": "execute_result"
    }
   ],
   "source": [
    "x[np.argsort(x)]"
   ]
  },
  {
   "cell_type": "markdown",
   "id": "d8d36784-4ee3-40d4-8b08-3f593f012347",
   "metadata": {},
   "source": [
    "## 17. Example: Find the minimum by sorting"
   ]
  },
  {
   "cell_type": "code",
   "execution_count": 112,
   "id": "f82ecd48-1f7d-45e3-a942-1afe855afdad",
   "metadata": {},
   "outputs": [],
   "source": [
    "x = np.arange(0,6,0.0000001)"
   ]
  },
  {
   "cell_type": "code",
   "execution_count": 113,
   "id": "87388a9a-04f0-43fe-ab9a-906c0edc8fe5",
   "metadata": {},
   "outputs": [],
   "source": [
    "y = np.cos(x)"
   ]
  },
  {
   "cell_type": "code",
   "execution_count": 114,
   "id": "54922f8b-4890-4814-a8a9-a11c503b23cb",
   "metadata": {},
   "outputs": [],
   "source": [
    "i = np.argmin(y)"
   ]
  },
  {
   "cell_type": "code",
   "execution_count": 115,
   "id": "530d29f1-81cd-449c-869c-5c577f1e0475",
   "metadata": {},
   "outputs": [
    {
     "name": "stdout",
     "output_type": "stream",
     "text": [
      "3.1415927\n"
     ]
    }
   ],
   "source": [
    "print(x[i])"
   ]
  }
 ],
 "metadata": {
  "kernelspec": {
   "display_name": "Python 3 (ipykernel)",
   "language": "python",
   "name": "python3"
  },
  "language_info": {
   "codemirror_mode": {
    "name": "ipython",
    "version": 3
   },
   "file_extension": ".py",
   "mimetype": "text/x-python",
   "name": "python",
   "nbconvert_exporter": "python",
   "pygments_lexer": "ipython3",
   "version": "3.11.4"
  }
 },
 "nbformat": 4,
 "nbformat_minor": 5
}
