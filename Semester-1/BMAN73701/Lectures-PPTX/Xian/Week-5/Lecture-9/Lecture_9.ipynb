{
 "cells": [
  {
   "cell_type": "code",
   "execution_count": 1,
   "id": "97f78439-e1d9-460c-a8c6-e21c393bd7a7",
   "metadata": {},
   "outputs": [],
   "source": [
    "import matplotlib.pyplot as plt\n",
    "import pandas as pd\n",
    "import numpy as np"
   ]
  },
  {
   "cell_type": "markdown",
   "id": "8d08e920-410d-48e9-9676-28fd2ff9ea1a",
   "metadata": {},
   "source": [
    "## 1. Clustering Example"
   ]
  },
  {
   "cell_type": "code",
   "execution_count": 2,
   "id": "8f938594-ea8d-4159-b067-0dc0f355977a",
   "metadata": {},
   "outputs": [],
   "source": [
    "# Read data\n",
    "def setup_stores():\n",
    "    stores = pd.read_csv(\"stores.csv\")\n",
    "    stores.index = stores['Store']\n",
    "    sales = pd.read_csv('sales.zip')\n",
    "    sales['Date'] = pd.to_datetime(sales['Date'])\n",
    "    sales.index = sales['Date']\n",
    "    features = pd.read_csv(\"features.zip\")\n",
    "    # Data Wrangling\n",
    "    # Add additional store features\n",
    "    stores['Mean_sales'] = sales.groupby('Store')['Weekly_Sales'].mean()\n",
    "    stores['Mean_Temp'] = features.groupby('Store')['Temperature'].mean()\n",
    "    return stores"
   ]
  },
  {
   "cell_type": "code",
   "execution_count": 3,
   "id": "9e97c6c6-b4cb-49e2-aaf5-6685e6a3de0c",
   "metadata": {},
   "outputs": [
    {
     "data": {
      "text/html": [
       "<div>\n",
       "<style scoped>\n",
       "    .dataframe tbody tr th:only-of-type {\n",
       "        vertical-align: middle;\n",
       "    }\n",
       "\n",
       "    .dataframe tbody tr th {\n",
       "        vertical-align: top;\n",
       "    }\n",
       "\n",
       "    .dataframe thead th {\n",
       "        text-align: right;\n",
       "    }\n",
       "</style>\n",
       "<table border=\"1\" class=\"dataframe\">\n",
       "  <thead>\n",
       "    <tr style=\"text-align: right;\">\n",
       "      <th></th>\n",
       "      <th>Store</th>\n",
       "      <th>Type</th>\n",
       "      <th>Size</th>\n",
       "      <th>Mean_sales</th>\n",
       "      <th>Mean_Temp</th>\n",
       "    </tr>\n",
       "    <tr>\n",
       "      <th>Store</th>\n",
       "      <th></th>\n",
       "      <th></th>\n",
       "      <th></th>\n",
       "      <th></th>\n",
       "      <th></th>\n",
       "    </tr>\n",
       "  </thead>\n",
       "  <tbody>\n",
       "    <tr>\n",
       "      <th>1</th>\n",
       "      <td>1</td>\n",
       "      <td>A</td>\n",
       "      <td>151315</td>\n",
       "      <td>21710.543621</td>\n",
       "      <td>66.912033</td>\n",
       "    </tr>\n",
       "    <tr>\n",
       "      <th>2</th>\n",
       "      <td>2</td>\n",
       "      <td>A</td>\n",
       "      <td>202307</td>\n",
       "      <td>26898.070031</td>\n",
       "      <td>66.728407</td>\n",
       "    </tr>\n",
       "    <tr>\n",
       "      <th>3</th>\n",
       "      <td>3</td>\n",
       "      <td>B</td>\n",
       "      <td>37392</td>\n",
       "      <td>6373.033983</td>\n",
       "      <td>70.394176</td>\n",
       "    </tr>\n",
       "    <tr>\n",
       "      <th>4</th>\n",
       "      <td>4</td>\n",
       "      <td>A</td>\n",
       "      <td>205863</td>\n",
       "      <td>29161.210415</td>\n",
       "      <td>61.416648</td>\n",
       "    </tr>\n",
       "    <tr>\n",
       "      <th>5</th>\n",
       "      <td>5</td>\n",
       "      <td>B</td>\n",
       "      <td>34875</td>\n",
       "      <td>5053.415813</td>\n",
       "      <td>68.224505</td>\n",
       "    </tr>\n",
       "  </tbody>\n",
       "</table>\n",
       "</div>"
      ],
      "text/plain": [
       "       Store Type    Size    Mean_sales  Mean_Temp\n",
       "Store                                             \n",
       "1          1    A  151315  21710.543621  66.912033\n",
       "2          2    A  202307  26898.070031  66.728407\n",
       "3          3    B   37392   6373.033983  70.394176\n",
       "4          4    A  205863  29161.210415  61.416648\n",
       "5          5    B   34875   5053.415813  68.224505"
      ]
     },
     "execution_count": 3,
     "metadata": {},
     "output_type": "execute_result"
    }
   ],
   "source": [
    "stores = setup_stores()\n",
    "stores.head()"
   ]
  },
  {
   "cell_type": "code",
   "execution_count": 4,
   "id": "07d1709f",
   "metadata": {},
   "outputs": [
    {
     "data": {
      "text/plain": [
       "Store\n",
       "1       red\n",
       "2       red\n",
       "3      blue\n",
       "4       red\n",
       "5      blue\n",
       "6       red\n",
       "7      blue\n",
       "8       red\n",
       "9      blue\n",
       "10     blue\n",
       "11      red\n",
       "12     blue\n",
       "13      red\n",
       "14      red\n",
       "15     blue\n",
       "16     blue\n",
       "17     blue\n",
       "18     blue\n",
       "19      red\n",
       "20      red\n",
       "21     blue\n",
       "22     blue\n",
       "23     blue\n",
       "24      red\n",
       "25     blue\n",
       "26      red\n",
       "27      red\n",
       "28      red\n",
       "29     blue\n",
       "30    green\n",
       "31      red\n",
       "32      red\n",
       "33      red\n",
       "34      red\n",
       "35     blue\n",
       "36      red\n",
       "37    green\n",
       "38    green\n",
       "39      red\n",
       "40      red\n",
       "41      red\n",
       "42    green\n",
       "43    green\n",
       "44    green\n",
       "45     blue\n",
       "Name: Type, dtype: object"
      ]
     },
     "execution_count": 4,
     "metadata": {},
     "output_type": "execute_result"
    }
   ],
   "source": [
    "type_colors_map = dict(A=\"red\", B=\"blue\", C=\"green\")\n",
    "stores['Type'].map(type_colors_map)\n"
   ]
  },
  {
   "cell_type": "code",
   "execution_count": 5,
   "id": "51cd2bd8-28ac-48be-b411-1ce2f22e50d6",
   "metadata": {},
   "outputs": [
    {
     "data": {
      "text/plain": [
       "<Axes: xlabel='Mean_sales', ylabel='Size'>"
      ]
     },
     "execution_count": 5,
     "metadata": {},
     "output_type": "execute_result"
    },
    {
     "data": {
      "image/png": "[encoded data removed]",
      "text/plain": [
       "<Figure size 640x480 with 1 Axes>"
      ]
     },
     "metadata": {},
     "output_type": "display_data"
    }
   ],
   "source": [
    "type_colors_map = dict(A=\"red\", B=\"blue\", C=\"green\")\n",
    "stores.plot.scatter('Mean_sales', 'Size', c = stores['Type'].map(type_colors_map))"
   ]
  },
  {
   "cell_type": "code",
   "execution_count": 6,
   "id": "b6efe289-ba29-42b0-813d-209a4b3c2e0f",
   "metadata": {},
   "outputs": [
    {
     "data": {
      "text/plain": [
       "array([0, 2, 1, 2, 1, 2, 1, 0, 0, 0, 2, 0, 2, 2, 0, 1, 0, 0, 2, 2, 0, 0,\n",
       "       0, 2, 0, 0, 2, 2, 0, 1, 2, 2, 1, 0, 0, 1, 1, 1, 2, 0, 2, 1, 1, 1,\n",
       "       0], dtype=int32)"
      ]
     },
     "execution_count": 6,
     "metadata": {},
     "output_type": "execute_result"
    }
   ],
   "source": [
    "from sklearn.cluster import KMeans\n",
    "kmeans3 = KMeans(n_clusters=3, n_init=10)\n",
    "# Let's cluster according to sales and size\n",
    "X = stores[['Mean_sales', 'Size']]\n",
    "y = kmeans3.fit_predict(X)\n",
    "y"
   ]
  },
  {
   "cell_type": "code",
   "execution_count": 7,
   "id": "b6aa2a9f-dfad-4239-9bd3-896bc90c6dd1",
   "metadata": {},
   "outputs": [
    {
     "data": {
      "text/plain": [
       "<Axes: xlabel='Mean_sales', ylabel='Size'>"
      ]
     },
     "execution_count": 7,
     "metadata": {},
     "output_type": "execute_result"
    },
    {
     "data": {
      "image/png": "[encoded data removed]",
      "text/plain": [
       "<Figure size 640x480 with 1 Axes>"
      ]
     },
     "metadata": {},
     "output_type": "display_data"
    }
   ],
   "source": [
    "colors = list(type_colors_map.values())\n",
    "stores.plot.scatter('Mean_sales', 'Size', c = [ colors[k] for k in y])"
   ]
  },
  {
   "cell_type": "code",
   "execution_count": 8,
   "id": "a5a4d4d3",
   "metadata": {},
   "outputs": [],
   "source": [
    "# type_colors_map2 = {0:\"red\", 1:\"blue\", 2: \"green\"}\n",
    "# stores.plot.scatter('Mean_sales', 'Size', c = pd.Series(y).map(type_colors_map2))"
   ]
  },
  {
   "cell_type": "markdown",
   "id": "cb2fad1d-30cd-4a94-9b65-9fddad1c19b8",
   "metadata": {},
   "source": [
    "## 2. PCA Example"
   ]
  },
  {
   "cell_type": "code",
   "execution_count": 9,
   "id": "4a025d68-a3e1-4ef0-b14d-23458910ddd7",
   "metadata": {
    "scrolled": true
   },
   "outputs": [
    {
     "name": "stdout",
     "output_type": "stream",
     "text": [
      "Original shape: (45, 3)\n",
      "PCA shape: (45, 2)\n"
     ]
    }
   ],
   "source": [
    "from sklearn.decomposition import PCA\n",
    "X = stores[['Mean_sales', 'Size', 'Mean_Temp']]\n",
    "pca = PCA(n_components=2)\n",
    "X_r = pca.fit_transform(X)\n",
    "print(\"Original shape:\", X.shape)\n",
    "print(\"PCA shape:\", X_r.shape)"
   ]
  },
  {
   "cell_type": "code",
   "execution_count": 10,
   "id": "0a4a50d0-9daa-4b69-aa8a-09d3ad5e7f3d",
   "metadata": {},
   "outputs": [
    {
     "data": {
      "text/plain": [
       "<matplotlib.collections.PathCollection at 0x1399aafd0>"
      ]
     },
     "execution_count": 10,
     "metadata": {},
     "output_type": "execute_result"
    },
    {
     "data": {
      "image/png": "[encoded data removed]",
      "text/plain": [
       "<Figure size 640x480 with 1 Axes>"
      ]
     },
     "metadata": {},
     "output_type": "display_data"
    }
   ],
   "source": [
    "type_colors_map = dict(A=\"red\", B=\"blue\", C=\"green\")\n",
    "plt.scatter(X_r[:,0], X_r[:,1],c = stores['Type'].map(type_colors_map))"
   ]
  },
  {
   "cell_type": "markdown",
   "id": "c2167932-2024-49a8-9ac3-daf2e1066f71",
   "metadata": {},
   "source": [
    "## 3. MLP Regression"
   ]
  },
  {
   "cell_type": "code",
   "execution_count": 11,
   "id": "9d9d4a32-68af-4a5a-9f4b-77075b31ddab",
   "metadata": {},
   "outputs": [],
   "source": [
    "from sklearn.datasets import fetch_california_housing\n",
    "housing = fetch_california_housing()\n",
    "X_train = housing.data\n",
    "y_train = housing.target"
   ]
  },
  {
   "cell_type": "code",
   "execution_count": 12,
   "id": "f7708bb9",
   "metadata": {},
   "outputs": [],
   "source": [
    "# Standardization (z-score normalization)\n",
    "from sklearn.preprocessing import StandardScaler\n",
    "scaler = StandardScaler()\n",
    "X_train_scaled = scaler.fit_transform(X_train)"
   ]
  },
  {
   "cell_type": "code",
   "execution_count": 13,
   "id": "3dcac9c7",
   "metadata": {},
   "outputs": [
    {
     "name": "stdout",
     "output_type": "stream",
     "text": [
      "MLP's score:  0.7927478014702037\n"
     ]
    }
   ],
   "source": [
    "from sklearn.neural_network import MLPRegressor\n",
    "mlp = MLPRegressor(hidden_layer_sizes=50, max_iter=500)\n",
    "# Train ML model\n",
    "mlp.fit(X_train_scaled, y_train)\n",
    "print(\"MLP's score: \", mlp.score(X_train_scaled, y_train))"
   ]
  },
  {
   "cell_type": "code",
   "execution_count": 14,
   "id": "e793be5b-c01c-419d-95ac-f1a3693fdd0c",
   "metadata": {},
   "outputs": [
    {
     "name": "stdout",
     "output_type": "stream",
     "text": [
      "My R2 score:  0.7927478014702037\n"
     ]
    }
   ],
   "source": [
    "def my_R2_score(y_pred, y_true):\n",
    "    # Make both 1D arrays\n",
    "    y_true = y_true.ravel()\n",
    "    y_pred = y_pred.ravel()\n",
    "    SS = ((y_true - y_pred)**2).sum()\n",
    "    resSS = ((y_true - y_true.mean())**2).sum()\n",
    "    return(1 - SS / resSS)\n",
    "# Score on training data (in this case R^2)\n",
    "print(\"My R2 score: \",\n",
    "      my_R2_score(mlp.predict(X_train_scaled), y_train))"
   ]
  },
  {
   "cell_type": "markdown",
   "id": "56065254-b1e7-4131-9100-eb28ef1757e3",
   "metadata": {},
   "source": [
    "## 4. MLP Regression: Training & Testing"
   ]
  },
  {
   "cell_type": "code",
   "execution_count": 15,
   "id": "b24b5bd3",
   "metadata": {},
   "outputs": [
    {
     "name": "stdout",
     "output_type": "stream",
     "text": [
      "X_train = (18576, 8), y_train = (18576,), X_test = (2064, 8), y_test = (2064,)\n"
     ]
    }
   ],
   "source": [
    "## 1. Split train/test\n",
    "from sklearn.model_selection import train_test_split\n",
    "X_train, X_test, y_train, y_test = train_test_split(housing.data, housing.target, test_size = 0.10)\n",
    "print(f'X_train = {X_train.shape}, y_train = {y_train.shape}, X_test = {X_test.shape}, y_test = {y_test.shape}')"
   ]
  },
  {
   "cell_type": "code",
   "execution_count": 16,
   "id": "f93cd28a",
   "metadata": {},
   "outputs": [
    {
     "data": {
      "text/plain": [
       "array([[-1.06583692, -0.84067759, -0.42848325, ...,  0.14039262,\n",
       "         0.42689963,  0.13783023],\n",
       "       [ 0.3007975 , -0.60245526,  0.26669049, ..., -0.06801169,\n",
       "         0.62830343, -1.16593461],\n",
       "       [ 0.45316444, -0.20541803,  0.41353319, ..., -0.04407417,\n",
       "        -1.32016129,  1.19682696],\n",
       "       ...,\n",
       "       [ 1.29430337,  0.58865642,  0.87765932, ..., -0.05339296,\n",
       "         1.29340437, -1.38073112],\n",
       "       [-1.18348203, -0.92008503, -0.44423164, ..., -0.10146783,\n",
       "         0.2629663 ,  0.23274032],\n",
       "       [ 2.22214198, -1.63475204,  0.97775402, ...,  0.02420445,\n",
       "        -0.81899368,  0.89711091]])"
      ]
     },
     "execution_count": 16,
     "metadata": {},
     "output_type": "execute_result"
    }
   ],
   "source": [
    "## 2. Data Preprocessing\n",
    "# Standardization (z-score normalization)\n",
    "from sklearn.preprocessing import StandardScaler\n",
    "# We fit the scaler on the train data and apply to both train and test\n",
    "scaler = StandardScaler()\n",
    "scaler.fit(X_train)\n",
    "X_train_scaled = scaler.transform(X_train)\n",
    "X_test_scaled = scaler.transform(X_test)\n",
    "X_test_scaled"
   ]
  },
  {
   "cell_type": "code",
   "execution_count": 17,
   "id": "80de242c",
   "metadata": {},
   "outputs": [
    {
     "data": {
      "text/plain": [
       "0.800863659267219"
      ]
     },
     "execution_count": 17,
     "metadata": {},
     "output_type": "execute_result"
    }
   ],
   "source": [
    "## 3. Train ML model\n",
    "from sklearn.neural_network import MLPRegressor\n",
    "mlp = MLPRegressor(hidden_layer_sizes=100, max_iter = 500)\n",
    "mlp.fit(X_train_scaled, y_train)\n",
    "## 4. Score on train data\n",
    "mlp.score(X_train_scaled, y_train)"
   ]
  },
  {
   "cell_type": "code",
   "execution_count": 18,
   "id": "ecb3173b-abf9-4e5e-9309-de837184b131",
   "metadata": {},
   "outputs": [
    {
     "data": {
      "text/plain": [
       "0.7905367355996376"
      ]
     },
     "execution_count": 18,
     "metadata": {},
     "output_type": "execute_result"
    }
   ],
   "source": [
    "## 5. Score on test data \n",
    "mlp.score(X_test_scaled, y_test)"
   ]
  },
  {
   "cell_type": "markdown",
   "id": "b879a200-0cae-4573-b0b8-e05abe838936",
   "metadata": {},
   "source": [
    "## 5. Quiz"
   ]
  },
  {
   "cell_type": "code",
   "execution_count": 19,
   "id": "96a39453-062f-45bd-afcc-adb3d425724b",
   "metadata": {},
   "outputs": [
    {
     "name": "stdout",
     "output_type": "stream",
     "text": [
      "mlpA score on test data: 0.7820683266984342\n",
      "mlpB score on test data: 0.7981612177482024\n",
      "0.7827897610393414\n",
      "0.8275480633606452\n"
     ]
    }
   ],
   "source": [
    "\"\"\"## Choosing between models\"\"\"\n",
    "mlpA = MLPRegressor(hidden_layer_sizes=100, max_iter = 500)\n",
    "mlpB = MLPRegressor(hidden_layer_sizes=(50, 50), max_iter = 500)\n",
    "# Train ML model\n",
    "mlpA.fit(X_train_scaled, y_train)\n",
    "mlpB.fit(X_train_scaled, y_train)\n",
    "\n",
    "print(f'mlpA score on test data: {mlpA.score(X_test_scaled, y_test)}')\n",
    "print(f'mlpB score on test data: {mlpB.score(X_test_scaled, y_test)}')\n",
    "\n",
    "print(mlpA.score(X_train_scaled, y_train))\n",
    "print(mlpB.score(X_train_scaled, y_train))"
   ]
  },
  {
   "cell_type": "markdown",
   "id": "4e900a24-60f7-45e3-b696-4954148dcd56",
   "metadata": {},
   "source": [
    "## 6. Cross-validation"
   ]
  },
  {
   "cell_type": "code",
   "execution_count": 20,
   "id": "719b2ddd-0e27-4d6c-819e-d02e5f9a04b3",
   "metadata": {},
   "outputs": [],
   "source": [
    "def print_cv_scores(s):\n",
    "    # :0.2f prints with 2 decimal places\n",
    "    print(f\"{len(scores)}-fold CV score: {s.mean():0.2f} (+/- {s.std()*2:0.2f})\")"
   ]
  },
  {
   "cell_type": "code",
   "execution_count": 21,
   "id": "4d796c31",
   "metadata": {},
   "outputs": [
    {
     "name": "stdout",
     "output_type": "stream",
     "text": [
      "10-fold CV score: 0.77 (+/- 0.03)\n"
     ]
    }
   ],
   "source": [
    "from sklearn.model_selection import cross_val_score\n",
    "mlp = MLPRegressor(hidden_layer_sizes=50, max_iter = 500)\n",
    "# K-fold cross-validation (this takes time!)\n",
    "scores = cross_val_score(mlp, X_train_scaled, y_train, cv = 10)\n",
    "print_cv_scores(scores)"
   ]
  },
  {
   "cell_type": "code",
   "execution_count": 22,
   "id": "1f8bc250",
   "metadata": {},
   "outputs": [
    {
     "name": "stdout",
     "output_type": "stream",
     "text": [
      "10-fold CV score: 0.75 (+/- 0.04)\n"
     ]
    }
   ],
   "source": [
    "mlp_small = MLPRegressor(hidden_layer_sizes=10, max_iter = 500)\n",
    "scores = cross_val_score(mlp_small, X_train_scaled, y_train, cv=10)\n",
    "print_cv_scores(scores)"
   ]
  },
  {
   "cell_type": "code",
   "execution_count": null,
   "id": "7841d20a",
   "metadata": {},
   "outputs": [],
   "source": []
  }
 ],
 "metadata": {
  "kernelspec": {
   "display_name": "Python 3 (ipykernel)",
   "language": "python",
   "name": "python3"
  },
  "language_info": {
   "codemirror_mode": {
    "name": "ipython",
    "version": 3
   },
   "file_extension": ".py",
   "mimetype": "text/x-python",
   "name": "python",
   "nbconvert_exporter": "python",
   "pygments_lexer": "ipython3",
   "version": "3.11.4"
  }
 },
 "nbformat": 4,
 "nbformat_minor": 5
}
