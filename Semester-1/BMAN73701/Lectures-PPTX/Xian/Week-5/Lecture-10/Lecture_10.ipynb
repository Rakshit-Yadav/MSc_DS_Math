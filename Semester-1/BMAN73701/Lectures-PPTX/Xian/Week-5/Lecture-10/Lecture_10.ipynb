{
 "cells": [
  {
   "cell_type": "code",
   "execution_count": 1,
   "id": "b9aa3944-40fd-4fec-b80f-8dbaeeb2c013",
   "metadata": {},
   "outputs": [],
   "source": [
    "import pandas as pd\n",
    "import numpy as np\n",
    "from sklearn.model_selection import train_test_split, cross_val_score"
   ]
  },
  {
   "cell_type": "markdown",
   "id": "8856e021",
   "metadata": {},
   "source": [
    "## 0. Classification with Decision Tree"
   ]
  },
  {
   "cell_type": "code",
   "execution_count": 2,
   "id": "8c0ce356",
   "metadata": {},
   "outputs": [],
   "source": [
    "# Read data\n",
    "def setup_stores():\n",
    "    stores = pd.read_csv(\"stores.csv\")\n",
    "    stores.index = stores['Store']\n",
    "    sales = pd.read_csv('sales.zip')\n",
    "    sales['Date'] = pd.to_datetime(sales['Date'])\n",
    "    sales.index = sales['Date']\n",
    "    features = pd.read_csv(\"features.zip\")\n",
    "    # Data Wrangling\n",
    "    # Add additional store features\n",
    "    stores['Mean_sales'] = sales.groupby('Store')['Weekly_Sales'].mean()\n",
    "    stores['Mean_Temp'] = features.groupby('Store')['Temperature'].mean()\n",
    "    return stores"
   ]
  },
  {
   "cell_type": "code",
   "execution_count": 3,
   "id": "3d6dc02e",
   "metadata": {},
   "outputs": [
    {
     "name": "stdout",
     "output_type": "stream",
     "text": [
      "<class 'pandas.core.frame.DataFrame'>\n",
      "Index: 45 entries, 1 to 45\n",
      "Data columns (total 5 columns):\n",
      " #   Column      Non-Null Count  Dtype  \n",
      "---  ------      --------------  -----  \n",
      " 0   Store       45 non-null     int64  \n",
      " 1   Type        45 non-null     object \n",
      " 2   Size        45 non-null     int64  \n",
      " 3   Mean_sales  45 non-null     float64\n",
      " 4   Mean_Temp   45 non-null     float64\n",
      "dtypes: float64(2), int64(2), object(1)\n",
      "memory usage: 2.1+ KB\n"
     ]
    }
   ],
   "source": [
    "from sklearn.model_selection import train_test_split\n",
    "from sklearn.model_selection import cross_val_score\n",
    "stores = setup_stores()\n",
    "stores.info()"
   ]
  },
  {
   "cell_type": "code",
   "execution_count": 4,
   "id": "2c0e918c",
   "metadata": {},
   "outputs": [
    {
     "data": {
      "text/html": [
       "<div>\n",
       "<style scoped>\n",
       "    .dataframe tbody tr th:only-of-type {\n",
       "        vertical-align: middle;\n",
       "    }\n",
       "\n",
       "    .dataframe tbody tr th {\n",
       "        vertical-align: top;\n",
       "    }\n",
       "\n",
       "    .dataframe thead th {\n",
       "        text-align: right;\n",
       "    }\n",
       "</style>\n",
       "<table border=\"1\" class=\"dataframe\">\n",
       "  <thead>\n",
       "    <tr style=\"text-align: right;\">\n",
       "      <th></th>\n",
       "      <th>Store</th>\n",
       "      <th>Type</th>\n",
       "      <th>Size</th>\n",
       "      <th>Mean_sales</th>\n",
       "      <th>Mean_Temp</th>\n",
       "    </tr>\n",
       "    <tr>\n",
       "      <th>Store</th>\n",
       "      <th></th>\n",
       "      <th></th>\n",
       "      <th></th>\n",
       "      <th></th>\n",
       "      <th></th>\n",
       "    </tr>\n",
       "  </thead>\n",
       "  <tbody>\n",
       "    <tr>\n",
       "      <th>1</th>\n",
       "      <td>1</td>\n",
       "      <td>A</td>\n",
       "      <td>151315</td>\n",
       "      <td>21710.543621</td>\n",
       "      <td>66.912033</td>\n",
       "    </tr>\n",
       "    <tr>\n",
       "      <th>2</th>\n",
       "      <td>2</td>\n",
       "      <td>A</td>\n",
       "      <td>202307</td>\n",
       "      <td>26898.070031</td>\n",
       "      <td>66.728407</td>\n",
       "    </tr>\n",
       "    <tr>\n",
       "      <th>3</th>\n",
       "      <td>3</td>\n",
       "      <td>B</td>\n",
       "      <td>37392</td>\n",
       "      <td>6373.033983</td>\n",
       "      <td>70.394176</td>\n",
       "    </tr>\n",
       "    <tr>\n",
       "      <th>4</th>\n",
       "      <td>4</td>\n",
       "      <td>A</td>\n",
       "      <td>205863</td>\n",
       "      <td>29161.210415</td>\n",
       "      <td>61.416648</td>\n",
       "    </tr>\n",
       "    <tr>\n",
       "      <th>5</th>\n",
       "      <td>5</td>\n",
       "      <td>B</td>\n",
       "      <td>34875</td>\n",
       "      <td>5053.415813</td>\n",
       "      <td>68.224505</td>\n",
       "    </tr>\n",
       "  </tbody>\n",
       "</table>\n",
       "</div>"
      ],
      "text/plain": [
       "       Store Type    Size    Mean_sales  Mean_Temp\n",
       "Store                                             \n",
       "1          1    A  151315  21710.543621  66.912033\n",
       "2          2    A  202307  26898.070031  66.728407\n",
       "3          3    B   37392   6373.033983  70.394176\n",
       "4          4    A  205863  29161.210415  61.416648\n",
       "5          5    B   34875   5053.415813  68.224505"
      ]
     },
     "execution_count": 4,
     "metadata": {},
     "output_type": "execute_result"
    }
   ],
   "source": [
    "stores.head()"
   ]
  },
  {
   "cell_type": "code",
   "execution_count": 5,
   "id": "064b98d0",
   "metadata": {},
   "outputs": [
    {
     "name": "stdout",
     "output_type": "stream",
     "text": [
      "['A' 'B' 'C']\n"
     ]
    }
   ],
   "source": [
    "# Encode labels as integers\n",
    "from sklearn.preprocessing import LabelEncoder\n",
    "lencoder = LabelEncoder()\n",
    "type_encoded = lencoder.fit_transform(stores['Type'])\n",
    "print(lencoder.classes_)"
   ]
  },
  {
   "cell_type": "code",
   "execution_count": 6,
   "id": "d38b3233",
   "metadata": {},
   "outputs": [
    {
     "name": "stdout",
     "output_type": "stream",
     "text": [
      "(40, 3)\n",
      "(5, 3)\n",
      "(40,)\n",
      "(5,)\n"
     ]
    }
   ],
   "source": [
    "# Train/test split\n",
    "X_train, X_test, y_train, y_test = train_test_split(\n",
    "                     stores[['Size','Mean_sales', 'Mean_Temp']],\n",
    "                     type_encoded, \n",
    "                     test_size = 0.10,\n",
    "                     stratify = type_encoded)\n",
    "print(X_train.shape)\n",
    "print(X_test.shape)\n",
    "print(y_train.shape)\n",
    "print(y_test.shape)"
   ]
  },
  {
   "cell_type": "code",
   "execution_count": 7,
   "id": "059fcc49",
   "metadata": {},
   "outputs": [],
   "source": [
    "def print_cv_scores(s):\n",
    "    # :0.2f prints with 2 decimal places\n",
    "    print(f\"{len(scores)}-fold CV score: {s.mean():0.2f} (+/- {s.std()*2:0.2f})\")"
   ]
  },
  {
   "cell_type": "code",
   "execution_count": 8,
   "id": "c4b477b7",
   "metadata": {},
   "outputs": [
    {
     "name": "stdout",
     "output_type": "stream",
     "text": [
      "5-fold CV score: 0.90 (+/- 0.10)\n",
      "5-fold CV score: 0.80 (+/- 0.12)\n"
     ]
    }
   ],
   "source": [
    "from sklearn.tree import DecisionTreeClassifier, plot_tree\n",
    "# Choose a DT model\n",
    "dtree3 = DecisionTreeClassifier(criterion = \"entropy\", max_depth = 3)\n",
    "dtree1 = DecisionTreeClassifier(criterion = \"entropy\", max_depth = 1)\n",
    "scores = cross_val_score(dtree3, X_train, y_train, cv=5, scoring='accuracy')\n",
    "print_cv_scores(scores)\n",
    "scores = cross_val_score(dtree1, X_train, y_train, cv=5, scoring='accuracy')\n",
    "print_cv_scores(scores)"
   ]
  },
  {
   "cell_type": "code",
   "execution_count": 9,
   "id": "37a95d06",
   "metadata": {},
   "outputs": [],
   "source": [
    "# Fit chosen model in whole training data\n",
    "dtree3.fit(X_train, y_train)\n",
    "score = dtree3.score(X_test, y_test)"
   ]
  },
  {
   "cell_type": "code",
   "execution_count": 10,
   "id": "0a7e97ad",
   "metadata": {},
   "outputs": [
    {
     "name": "stdout",
     "output_type": "stream",
     "text": [
      "Score on test set: 1.00\n",
      "Predicted:  [1 0 1 2 0]\n",
      "   Actual:  [1 0 1 2 0]\n",
      "Predicted:  ['B' 'A' 'B' 'C' 'A']\n",
      "   Actual:  ['B' 'A' 'B' 'C' 'A']\n"
     ]
    }
   ],
   "source": [
    "print(f\"Score on test set: {score:.2f}\")\n",
    "print(\"Predicted: \", dtree3.predict(X_test))\n",
    "print(\"   Actual: \", y_test)\n",
    "print(\"Predicted: \", lencoder.inverse_transform(dtree3.predict(X_test)))\n",
    "print(\"   Actual: \", lencoder.inverse_transform(y_test))"
   ]
  },
  {
   "cell_type": "code",
   "execution_count": 11,
   "id": "79a46aa8",
   "metadata": {},
   "outputs": [
    {
     "data": {
      "text/plain": [
       "[Text(0.6666666666666666, 0.875, 'x[0] <= 145741.0\\nentropy = 1.406\\nsamples = 40\\nvalue = [20, 15, 5]'),\n",
       " Text(0.5, 0.625, 'x[0] <= 50092.5\\nentropy = 1.177\\nsamples = 22\\nvalue = [2, 15, 5]'),\n",
       " Text(0.3333333333333333, 0.375, 'x[0] <= 38541.0\\nentropy = 1.436\\nsamples = 9\\nvalue = [2, 2, 5]'),\n",
       " Text(0.16666666666666666, 0.125, 'entropy = 0.0\\nsamples = 2\\nvalue = [0, 2, 0]'),\n",
       " Text(0.5, 0.125, 'entropy = 0.863\\nsamples = 7\\nvalue = [2, 0, 5]'),\n",
       " Text(0.6666666666666666, 0.375, 'entropy = 0.0\\nsamples = 13\\nvalue = [0, 13, 0]'),\n",
       " Text(0.8333333333333334, 0.625, 'entropy = 0.0\\nsamples = 18\\nvalue = [18, 0, 0]')]"
      ]
     },
     "execution_count": 11,
     "metadata": {},
     "output_type": "execute_result"
    },
    {
     "data": {
      "image/png": "[encoded data removed]",
      "text/plain": [
       "<Figure size 640x480 with 1 Axes>"
      ]
     },
     "metadata": {},
     "output_type": "display_data"
    }
   ],
   "source": [
    "plot_tree(dtree3, filled=True, rounded=True)"
   ]
  },
  {
   "cell_type": "markdown",
   "id": "2b6e7f67-2090-495f-b4d6-61163be9b21e",
   "metadata": {},
   "source": [
    "## 1. Default in Credit Card Payments"
   ]
  },
  {
   "cell_type": "code",
   "execution_count": 12,
   "id": "127c7161-9a52-4816-8847-37cb80bcc118",
   "metadata": {
    "scrolled": false
   },
   "outputs": [
    {
     "name": "stdout",
     "output_type": "stream",
     "text": [
      "<class 'pandas.core.frame.DataFrame'>\n",
      "RangeIndex: 30000 entries, 0 to 29999\n",
      "Data columns (total 24 columns):\n",
      " #   Column     Non-Null Count  Dtype\n",
      "---  ------     --------------  -----\n",
      " 0   LIMIT_BAL  30000 non-null  int64\n",
      " 1   GENDER     30000 non-null  int64\n",
      " 2   EDUCATION  30000 non-null  int64\n",
      " 3   MARRIAGE   30000 non-null  int64\n",
      " 4   AGE        30000 non-null  int64\n",
      " 5   REPAY_M1   30000 non-null  int64\n",
      " 6   REPAY_M2   30000 non-null  int64\n",
      " 7   REPAY_M3   30000 non-null  int64\n",
      " 8   REPAY_M4   30000 non-null  int64\n",
      " 9   REPAY_M5   30000 non-null  int64\n",
      " 10  REPAY_M6   30000 non-null  int64\n",
      " 11  BILL_AMT1  30000 non-null  int64\n",
      " 12  BILL_AMT2  30000 non-null  int64\n",
      " 13  BILL_AMT3  30000 non-null  int64\n",
      " 14  BILL_AMT4  30000 non-null  int64\n",
      " 15  BILL_AMT5  30000 non-null  int64\n",
      " 16  BILL_AMT6  30000 non-null  int64\n",
      " 17  PAY_AMT1   30000 non-null  int64\n",
      " 18  PAY_AMT2   30000 non-null  int64\n",
      " 19  PAY_AMT3   30000 non-null  int64\n",
      " 20  PAY_AMT4   30000 non-null  int64\n",
      " 21  PAY_AMT5   30000 non-null  int64\n",
      " 22  PAY_AMT6   30000 non-null  int64\n",
      " 23  default    30000 non-null  int64\n",
      "dtypes: int64(24)\n",
      "memory usage: 5.5 MB\n"
     ]
    }
   ],
   "source": [
    "df = pd.read_csv(\"credit-card-default.zip\")\n",
    "df.info()"
   ]
  },
  {
   "cell_type": "code",
   "execution_count": 13,
   "id": "632d7c60-872d-4129-a5fb-510f1e9e7e20",
   "metadata": {},
   "outputs": [
    {
     "name": "stdout",
     "output_type": "stream",
     "text": [
      "default\n",
      "0    23364\n",
      "1     6636\n",
      "Name: count, dtype: int64\n"
     ]
    }
   ],
   "source": [
    "print(df['default'].value_counts())"
   ]
  },
  {
   "cell_type": "code",
   "execution_count": 14,
   "id": "407614f8-3e62-4b13-a692-7d1b72b122ca",
   "metadata": {},
   "outputs": [],
   "source": [
    "X_train, X_test, y_train, y_test = train_test_split(\n",
    "        df.drop('default', axis=1),\n",
    "        df['default'],\n",
    "        test_size = 0.20,\n",
    "        stratify = df['default'])"
   ]
  },
  {
   "cell_type": "code",
   "execution_count": 15,
   "id": "7113f9d9-2867-4392-8a8d-885f07177d5b",
   "metadata": {},
   "outputs": [
    {
     "data": {
      "text/plain": [
       "0.7876666666666666"
      ]
     },
     "execution_count": 15,
     "metadata": {},
     "output_type": "execute_result"
    }
   ],
   "source": [
    "from sklearn.ensemble import RandomForestClassifier\n",
    "# n_estimators: number of trees\n",
    "forest = RandomForestClassifier(n_estimators = 5)\n",
    "forest.fit(X_train, y_train)\n",
    "forest.score(X_test, y_test)"
   ]
  },
  {
   "cell_type": "code",
   "execution_count": 16,
   "id": "4a986195",
   "metadata": {},
   "outputs": [
    {
     "data": {
      "text/plain": [
       "array([0.06194722, 0.01097032, 0.02030439, 0.01401034, 0.06778194,\n",
       "       0.09491   , 0.03406174, 0.02519028, 0.02848215, 0.01416577,\n",
       "       0.02758348, 0.06612629, 0.05391069, 0.05271497, 0.04717404,\n",
       "       0.04925603, 0.05173362, 0.05800242, 0.04588636, 0.04346115,\n",
       "       0.04297491, 0.04380872, 0.04554317])"
      ]
     },
     "execution_count": 16,
     "metadata": {},
     "output_type": "execute_result"
    }
   ],
   "source": [
    "importances = forest.feature_importances_\n",
    "importances"
   ]
  },
  {
   "cell_type": "code",
   "execution_count": 17,
   "id": "4b19be65-3055-4922-b76f-acd72f29e45b",
   "metadata": {},
   "outputs": [
    {
     "data": {
      "text/html": [
       "<div>\n",
       "<style scoped>\n",
       "    .dataframe tbody tr th:only-of-type {\n",
       "        vertical-align: middle;\n",
       "    }\n",
       "\n",
       "    .dataframe tbody tr th {\n",
       "        vertical-align: top;\n",
       "    }\n",
       "\n",
       "    .dataframe thead th {\n",
       "        text-align: right;\n",
       "    }\n",
       "</style>\n",
       "<table border=\"1\" class=\"dataframe\">\n",
       "  <thead>\n",
       "    <tr style=\"text-align: right;\">\n",
       "      <th></th>\n",
       "      <th>feature</th>\n",
       "      <th>importance</th>\n",
       "    </tr>\n",
       "  </thead>\n",
       "  <tbody>\n",
       "    <tr>\n",
       "      <th>0</th>\n",
       "      <td>REPAY_M1</td>\n",
       "      <td>0.094910</td>\n",
       "    </tr>\n",
       "    <tr>\n",
       "      <th>1</th>\n",
       "      <td>AGE</td>\n",
       "      <td>0.067782</td>\n",
       "    </tr>\n",
       "    <tr>\n",
       "      <th>2</th>\n",
       "      <td>BILL_AMT1</td>\n",
       "      <td>0.066126</td>\n",
       "    </tr>\n",
       "    <tr>\n",
       "      <th>3</th>\n",
       "      <td>LIMIT_BAL</td>\n",
       "      <td>0.061947</td>\n",
       "    </tr>\n",
       "    <tr>\n",
       "      <th>4</th>\n",
       "      <td>PAY_AMT1</td>\n",
       "      <td>0.058002</td>\n",
       "    </tr>\n",
       "  </tbody>\n",
       "</table>\n",
       "</div>"
      ],
      "text/plain": [
       "     feature  importance\n",
       "0   REPAY_M1    0.094910\n",
       "1        AGE    0.067782\n",
       "2  BILL_AMT1    0.066126\n",
       "3  LIMIT_BAL    0.061947\n",
       "4   PAY_AMT1    0.058002"
      ]
     },
     "execution_count": 17,
     "metadata": {},
     "output_type": "execute_result"
    }
   ],
   "source": [
    "importances = forest.feature_importances_\n",
    "indices = np.argsort(-importances)\n",
    "# Create a dataframe just for pretty printing\n",
    "df_imp = pd.DataFrame(dict(feature=X_train.columns[indices],\n",
    "                           importance = importances[indices]))\n",
    "df_imp.head()"
   ]
  },
  {
   "cell_type": "code",
   "execution_count": 18,
   "id": "ccb59c0f-c6ed-432e-b65b-3c8be92f7a93",
   "metadata": {},
   "outputs": [
    {
     "data": {
      "image/png": "[encoded data removed]",
      "text/plain": [
       "<Figure size 640x480 with 1 Axes>"
      ]
     },
     "metadata": {},
     "output_type": "display_data"
    }
   ],
   "source": [
    "from matplotlib import pyplot as plt\n",
    "# Plot the feature importances of the forest\n",
    "plt.title(\"Feature importances\")\n",
    "plt.bar(range(len(importances)), df_imp['importance'], color=\"b\")\n",
    "plt.xticks(range(len(importances)), df_imp['feature'], rotation=90)\n",
    "plt.tight_layout()"
   ]
  },
  {
   "cell_type": "code",
   "execution_count": 19,
   "id": "bbf2563b",
   "metadata": {},
   "outputs": [
    {
     "data": {
      "text/plain": [
       "<Axes: title={'center': 'REPAY_M1'}, xlabel='default'>"
      ]
     },
     "execution_count": 19,
     "metadata": {},
     "output_type": "execute_result"
    },
    {
     "data": {
      "image/png": "[encoded data removed]",
      "text/plain": [
       "<Figure size 640x480 with 1 Axes>"
      ]
     },
     "metadata": {},
     "output_type": "display_data"
    }
   ],
   "source": [
    "df.boxplot(column='REPAY_M1', by='default')"
   ]
  },
  {
   "cell_type": "markdown",
   "id": "1cd84a9e-ee1d-4456-837f-d6185695e077",
   "metadata": {},
   "source": [
    "## 2. Confusion matrix of Credit Default"
   ]
  },
  {
   "cell_type": "code",
   "execution_count": 20,
   "id": "511aeaf5-f8a1-4f31-b5c8-3bd53b1d7ae4",
   "metadata": {},
   "outputs": [
    {
     "data": {
      "text/plain": [
       "0.7876666666666666"
      ]
     },
     "execution_count": 20,
     "metadata": {},
     "output_type": "execute_result"
    }
   ],
   "source": [
    "forest.score(X_test, y_test)"
   ]
  },
  {
   "cell_type": "code",
   "execution_count": 21,
   "id": "557a8f6e-5107-485d-a4c7-af9ea888c4d1",
   "metadata": {},
   "outputs": [
    {
     "data": {
      "text/plain": [
       "array([[4221,  452],\n",
       "       [ 822,  505]])"
      ]
     },
     "execution_count": 21,
     "metadata": {},
     "output_type": "execute_result"
    }
   ],
   "source": [
    "from sklearn.metrics import confusion_matrix\n",
    "y_test_pred = forest.predict(X_test)\n",
    "conf_mat = confusion_matrix(y_test, y_test_pred,labels = [0,1])\n",
    "conf_mat"
   ]
  },
  {
   "cell_type": "code",
   "execution_count": 22,
   "id": "fc781967-1eeb-4c6f-a3af-b2436a02d942",
   "metadata": {},
   "outputs": [
    {
     "name": "stdout",
     "output_type": "stream",
     "text": [
      "Accuracy: 0.7876666666666666\n",
      "Precision: 0.5276907001044933\n",
      "Recall: 0.38055764883195176\n",
      "F1-score: 0.44220665499124345\n"
     ]
    }
   ],
   "source": [
    "# (TP + TN) / (TP + TN + FP + FN)\n",
    "print(\"Accuracy:\", (conf_mat[0,0] + conf_mat[1,1]) / np.sum(conf_mat))\n",
    "# TP / (TP + FP)\n",
    "print(\"Precision:\", conf_mat[1,1] / np.sum(conf_mat[:,1]))\n",
    "# TP / (TP + FN)\n",
    "print(\"Recall:\", conf_mat[1,1] / np.sum(conf_mat[1,:]))\n",
    "precision = conf_mat[1,1] / np.sum(conf_mat[:,1])\n",
    "recall = conf_mat[1,1] / np.sum(conf_mat[1,:])\n",
    "print(\"F1-score:\", (2*precision*recall)/(precision+recall))"
   ]
  },
  {
   "cell_type": "code",
   "execution_count": 23,
   "id": "03cefe43-8dcd-4f2c-aebf-5710fa4bcdba",
   "metadata": {},
   "outputs": [
    {
     "name": "stdout",
     "output_type": "stream",
     "text": [
      "Accuracy: 0.7876666666666666\n",
      "Precision: 0.5276907001044933\n",
      "Recall: 0.38055764883195176\n",
      "F1 score: 0.44220665499124345\n"
     ]
    }
   ],
   "source": [
    "from sklearn.metrics import accuracy_score, precision_score, recall_score, f1_score\n",
    "print(\"Accuracy:\", accuracy_score(y_test, y_test_pred))\n",
    "print(\"Precision:\", precision_score(y_test, y_test_pred))\n",
    "print(\"Recall:\", recall_score(y_test, y_test_pred))\n",
    "print(\"F1 score:\", f1_score(y_test, y_test_pred))"
   ]
  },
  {
   "cell_type": "markdown",
   "id": "c336c905-c2f6-469e-80a2-fd2d1709a1f0",
   "metadata": {},
   "source": [
    "## 3. Multi-class Example: Children Nursery Dataset"
   ]
  },
  {
   "cell_type": "code",
   "execution_count": 24,
   "id": "2fdaaf14-3953-4f97-b53c-a5f727133d56",
   "metadata": {},
   "outputs": [
    {
     "name": "stdout",
     "output_type": "stream",
     "text": [
      "<class 'pandas.core.frame.DataFrame'>\n",
      "RangeIndex: 12960 entries, 0 to 12959\n",
      "Data columns (total 9 columns):\n",
      " #   Column              Non-Null Count  Dtype \n",
      "---  ------              --------------  ----- \n",
      " 0   Parents             12960 non-null  object\n",
      " 1   Has_nursery         12960 non-null  object\n",
      " 2   Form                12960 non-null  object\n",
      " 3   Num_children        12960 non-null  object\n",
      " 4   Housing             12960 non-null  object\n",
      " 5   Finance             12960 non-null  object\n",
      " 6   Social              12960 non-null  object\n",
      " 7   Health              12960 non-null  object\n",
      " 8   Application_Status  12960 non-null  object\n",
      "dtypes: object(9)\n",
      "memory usage: 911.4+ KB\n"
     ]
    }
   ],
   "source": [
    "nursery = pd.read_csv(\"nursery-data.csv\")\n",
    "nursery.info()"
   ]
  },
  {
   "cell_type": "code",
   "execution_count": 25,
   "id": "5eb91e3b-5844-439c-a954-e33979bc3236",
   "metadata": {},
   "outputs": [],
   "source": [
    "# Encode labels as integers\n",
    "from sklearn.preprocessing import LabelEncoder\n",
    "\n",
    "# You create an empty dictionary called label_encoders to store the label encoders for each categorical column.\n",
    "label_encoders = {}\n",
    "\n",
    "# You create a copy of the nursery DataFrame called nursery_enc to avoid modifying the original data.\n",
    "nursery_enc = nursery.copy()\n",
    "\n",
    "# You loop through the columns in nursery that have object (categorical) data types \n",
    "# using nursery.select_dtypes(include=object).columns.\n",
    "for col in nursery.select_dtypes(include=object).columns:\n",
    "    \n",
    "    # For each categorical column, you create a LabelEncoder object \n",
    "    # and fit it to the unique values in that column using .fit_transform(). \n",
    "    # This assigns integer labels to the unique values in that column.\n",
    "    label_encoders[col] = LabelEncoder()\n",
    "    nursery_enc[col] = label_encoders[col].fit_transform(nursery[col])\n",
    "    # The encoded column is then replaced in the nursery_enc DataFrame."
   ]
  },
  {
   "cell_type": "code",
   "execution_count": 26,
   "id": "95be290d",
   "metadata": {},
   "outputs": [
    {
     "data": {
      "text/plain": [
       "{'Parents': LabelEncoder(),\n",
       " 'Has_nursery': LabelEncoder(),\n",
       " 'Form': LabelEncoder(),\n",
       " 'Num_children': LabelEncoder(),\n",
       " 'Housing': LabelEncoder(),\n",
       " 'Finance': LabelEncoder(),\n",
       " 'Social': LabelEncoder(),\n",
       " 'Health': LabelEncoder(),\n",
       " 'Application_Status': LabelEncoder()}"
      ]
     },
     "execution_count": 26,
     "metadata": {},
     "output_type": "execute_result"
    }
   ],
   "source": [
    "label_encoders"
   ]
  },
  {
   "cell_type": "code",
   "execution_count": 27,
   "id": "d587b8a6",
   "metadata": {},
   "outputs": [
    {
     "data": {
      "text/html": [
       "<div>\n",
       "<style scoped>\n",
       "    .dataframe tbody tr th:only-of-type {\n",
       "        vertical-align: middle;\n",
       "    }\n",
       "\n",
       "    .dataframe tbody tr th {\n",
       "        vertical-align: top;\n",
       "    }\n",
       "\n",
       "    .dataframe thead th {\n",
       "        text-align: right;\n",
       "    }\n",
       "</style>\n",
       "<table border=\"1\" class=\"dataframe\">\n",
       "  <thead>\n",
       "    <tr style=\"text-align: right;\">\n",
       "      <th></th>\n",
       "      <th>Parents</th>\n",
       "      <th>Has_nursery</th>\n",
       "      <th>Form</th>\n",
       "      <th>Num_children</th>\n",
       "      <th>Housing</th>\n",
       "      <th>Finance</th>\n",
       "      <th>Social</th>\n",
       "      <th>Health</th>\n",
       "      <th>Application_Status</th>\n",
       "    </tr>\n",
       "  </thead>\n",
       "  <tbody>\n",
       "    <tr>\n",
       "      <th>0</th>\n",
       "      <td>2</td>\n",
       "      <td>3</td>\n",
       "      <td>0</td>\n",
       "      <td>0</td>\n",
       "      <td>0</td>\n",
       "      <td>0</td>\n",
       "      <td>0</td>\n",
       "      <td>2</td>\n",
       "      <td>2</td>\n",
       "    </tr>\n",
       "    <tr>\n",
       "      <th>1</th>\n",
       "      <td>2</td>\n",
       "      <td>3</td>\n",
       "      <td>0</td>\n",
       "      <td>0</td>\n",
       "      <td>0</td>\n",
       "      <td>0</td>\n",
       "      <td>0</td>\n",
       "      <td>1</td>\n",
       "      <td>1</td>\n",
       "    </tr>\n",
       "    <tr>\n",
       "      <th>2</th>\n",
       "      <td>2</td>\n",
       "      <td>3</td>\n",
       "      <td>0</td>\n",
       "      <td>0</td>\n",
       "      <td>0</td>\n",
       "      <td>0</td>\n",
       "      <td>0</td>\n",
       "      <td>0</td>\n",
       "      <td>0</td>\n",
       "    </tr>\n",
       "    <tr>\n",
       "      <th>3</th>\n",
       "      <td>2</td>\n",
       "      <td>3</td>\n",
       "      <td>0</td>\n",
       "      <td>0</td>\n",
       "      <td>0</td>\n",
       "      <td>0</td>\n",
       "      <td>2</td>\n",
       "      <td>2</td>\n",
       "      <td>2</td>\n",
       "    </tr>\n",
       "    <tr>\n",
       "      <th>4</th>\n",
       "      <td>2</td>\n",
       "      <td>3</td>\n",
       "      <td>0</td>\n",
       "      <td>0</td>\n",
       "      <td>0</td>\n",
       "      <td>0</td>\n",
       "      <td>2</td>\n",
       "      <td>1</td>\n",
       "      <td>1</td>\n",
       "    </tr>\n",
       "    <tr>\n",
       "      <th>...</th>\n",
       "      <td>...</td>\n",
       "      <td>...</td>\n",
       "      <td>...</td>\n",
       "      <td>...</td>\n",
       "      <td>...</td>\n",
       "      <td>...</td>\n",
       "      <td>...</td>\n",
       "      <td>...</td>\n",
       "      <td>...</td>\n",
       "    </tr>\n",
       "    <tr>\n",
       "      <th>12955</th>\n",
       "      <td>0</td>\n",
       "      <td>4</td>\n",
       "      <td>2</td>\n",
       "      <td>3</td>\n",
       "      <td>1</td>\n",
       "      <td>1</td>\n",
       "      <td>2</td>\n",
       "      <td>1</td>\n",
       "      <td>3</td>\n",
       "    </tr>\n",
       "    <tr>\n",
       "      <th>12956</th>\n",
       "      <td>0</td>\n",
       "      <td>4</td>\n",
       "      <td>2</td>\n",
       "      <td>3</td>\n",
       "      <td>1</td>\n",
       "      <td>1</td>\n",
       "      <td>2</td>\n",
       "      <td>0</td>\n",
       "      <td>0</td>\n",
       "    </tr>\n",
       "    <tr>\n",
       "      <th>12957</th>\n",
       "      <td>0</td>\n",
       "      <td>4</td>\n",
       "      <td>2</td>\n",
       "      <td>3</td>\n",
       "      <td>1</td>\n",
       "      <td>1</td>\n",
       "      <td>1</td>\n",
       "      <td>2</td>\n",
       "      <td>3</td>\n",
       "    </tr>\n",
       "    <tr>\n",
       "      <th>12958</th>\n",
       "      <td>0</td>\n",
       "      <td>4</td>\n",
       "      <td>2</td>\n",
       "      <td>3</td>\n",
       "      <td>1</td>\n",
       "      <td>1</td>\n",
       "      <td>1</td>\n",
       "      <td>1</td>\n",
       "      <td>3</td>\n",
       "    </tr>\n",
       "    <tr>\n",
       "      <th>12959</th>\n",
       "      <td>0</td>\n",
       "      <td>4</td>\n",
       "      <td>2</td>\n",
       "      <td>3</td>\n",
       "      <td>1</td>\n",
       "      <td>1</td>\n",
       "      <td>1</td>\n",
       "      <td>0</td>\n",
       "      <td>0</td>\n",
       "    </tr>\n",
       "  </tbody>\n",
       "</table>\n",
       "<p>12960 rows × 9 columns</p>\n",
       "</div>"
      ],
      "text/plain": [
       "       Parents  Has_nursery  Form  Num_children  Housing  Finance  Social  \\\n",
       "0            2            3     0             0        0        0       0   \n",
       "1            2            3     0             0        0        0       0   \n",
       "2            2            3     0             0        0        0       0   \n",
       "3            2            3     0             0        0        0       2   \n",
       "4            2            3     0             0        0        0       2   \n",
       "...        ...          ...   ...           ...      ...      ...     ...   \n",
       "12955        0            4     2             3        1        1       2   \n",
       "12956        0            4     2             3        1        1       2   \n",
       "12957        0            4     2             3        1        1       1   \n",
       "12958        0            4     2             3        1        1       1   \n",
       "12959        0            4     2             3        1        1       1   \n",
       "\n",
       "       Health  Application_Status  \n",
       "0           2                   2  \n",
       "1           1                   1  \n",
       "2           0                   0  \n",
       "3           2                   2  \n",
       "4           1                   1  \n",
       "...       ...                 ...  \n",
       "12955       1                   3  \n",
       "12956       0                   0  \n",
       "12957       2                   3  \n",
       "12958       1                   3  \n",
       "12959       0                   0  \n",
       "\n",
       "[12960 rows x 9 columns]"
      ]
     },
     "execution_count": 27,
     "metadata": {},
     "output_type": "execute_result"
    }
   ],
   "source": [
    "nursery_enc"
   ]
  },
  {
   "cell_type": "code",
   "execution_count": 28,
   "id": "0072b9c0",
   "metadata": {},
   "outputs": [],
   "source": [
    "# Train/test split\n",
    "X_train, X_test, y_train, y_test = train_test_split(nursery_enc.drop('Application_Status', axis=1),\n",
    "                     nursery_enc['Application_Status'],\n",
    "                     test_size = 0.20,\n",
    "                     stratify = nursery_enc['Application_Status'])"
   ]
  },
  {
   "cell_type": "code",
   "execution_count": 29,
   "id": "305cb024-1f0e-48a8-bb90-47a6d76c7560",
   "metadata": {},
   "outputs": [
    {
     "data": {
      "text/plain": [
       "0.9540895061728395"
      ]
     },
     "execution_count": 29,
     "metadata": {},
     "output_type": "execute_result"
    }
   ],
   "source": [
    "from sklearn.ensemble import RandomForestClassifier\n",
    "# n_estimators: number of trees\n",
    "forest = RandomForestClassifier(n_estimators = 5)\n",
    "forest.fit(X_train, y_train)\n",
    "forest.score(X_test, y_test)"
   ]
  },
  {
   "cell_type": "code",
   "execution_count": 30,
   "id": "75bcead9",
   "metadata": {},
   "outputs": [
    {
     "data": {
      "text/plain": [
       "(2592,)"
      ]
     },
     "execution_count": 30,
     "metadata": {},
     "output_type": "execute_result"
    }
   ],
   "source": [
    "y_test.shape"
   ]
  },
  {
   "cell_type": "code",
   "execution_count": 31,
   "id": "cca418fa",
   "metadata": {},
   "outputs": [
    {
     "data": {
      "text/plain": [
       "array([0, 1, 2, 3, 4])"
      ]
     },
     "execution_count": 31,
     "metadata": {},
     "output_type": "execute_result"
    }
   ],
   "source": [
    "forest.classes_"
   ]
  },
  {
   "cell_type": "code",
   "execution_count": 32,
   "id": "978549c6-f834-4f1a-9e90-a3a2f0fe3d22",
   "metadata": {},
   "outputs": [
    {
     "name": "stdout",
     "output_type": "stream",
     "text": [
      "[[864   0   0   0   0]\n",
      " [  0 800   0  48   5]\n",
      " [  0   0   0   0   0]\n",
      " [  0  38   0 771   0]\n",
      " [  0  28   0   0  38]]\n"
     ]
    }
   ],
   "source": [
    "from sklearn.metrics import confusion_matrix\n",
    "y_test_pred = forest.predict(X_test)\n",
    "conf_mat = confusion_matrix(y_test, y_test_pred, labels = forest.classes_)\n",
    "print(conf_mat)"
   ]
  },
  {
   "cell_type": "code",
   "execution_count": 33,
   "id": "daaa32e2-a2e9-461f-950d-140415ce051d",
   "metadata": {},
   "outputs": [
    {
     "name": "stdout",
     "output_type": "stream",
     "text": [
      "Application_Status\n",
      "not_recom     4320\n",
      "priority      4266\n",
      "spec_prior    4044\n",
      "very_recom     328\n",
      "recommend        2\n",
      "Name: count, dtype: int64\n"
     ]
    }
   ],
   "source": [
    "print(nursery['Application_Status'].value_counts())"
   ]
  },
  {
   "cell_type": "code",
   "execution_count": 34,
   "id": "e985d2f2-3e31-4670-9391-cb623020b07b",
   "metadata": {},
   "outputs": [
    {
     "name": "stdout",
     "output_type": "stream",
     "text": [
      "              precision    recall  f1-score   support\n",
      "\n",
      "   not_recom       1.00      1.00      1.00       864\n",
      "    priority       0.92      0.94      0.93       853\n",
      "  spec_prior       0.94      0.95      0.95       809\n",
      "  very_recom       0.88      0.58      0.70        66\n",
      "\n",
      "    accuracy                           0.95      2592\n",
      "   macro avg       0.94      0.87      0.89      2592\n",
      "weighted avg       0.95      0.95      0.95      2592\n",
      "\n"
     ]
    }
   ],
   "source": [
    "import warnings\n",
    "from sklearn.exceptions import UndefinedMetricWarning\n",
    "# Ignore the UndefinedMetricWarning\n",
    "warnings.filterwarnings(\"ignore\", category=UndefinedMetricWarning)\n",
    "\n",
    "from sklearn.metrics import classification_report\n",
    "print(\n",
    "      classification_report(\n",
    "      label_encoders['Application_Status'].inverse_transform(y_test),\n",
    "      label_encoders['Application_Status'].inverse_transform(y_test_pred)\n",
    "      )\n",
    "  )"
   ]
  },
  {
   "cell_type": "markdown",
   "id": "ecf2cc40-6a07-47b1-90aa-812e47e72c96",
   "metadata": {},
   "source": [
    "## 4. Default in Credit Card Payments"
   ]
  },
  {
   "cell_type": "code",
   "execution_count": 35,
   "id": "219b4de0-8c89-404a-81a7-f898df418b24",
   "metadata": {
    "scrolled": false
   },
   "outputs": [
    {
     "name": "stdout",
     "output_type": "stream",
     "text": [
      "<class 'pandas.core.frame.DataFrame'>\n",
      "RangeIndex: 30000 entries, 0 to 29999\n",
      "Data columns (total 24 columns):\n",
      " #   Column     Non-Null Count  Dtype\n",
      "---  ------     --------------  -----\n",
      " 0   LIMIT_BAL  30000 non-null  int64\n",
      " 1   GENDER     30000 non-null  int64\n",
      " 2   EDUCATION  30000 non-null  int64\n",
      " 3   MARRIAGE   30000 non-null  int64\n",
      " 4   AGE        30000 non-null  int64\n",
      " 5   REPAY_M1   30000 non-null  int64\n",
      " 6   REPAY_M2   30000 non-null  int64\n",
      " 7   REPAY_M3   30000 non-null  int64\n",
      " 8   REPAY_M4   30000 non-null  int64\n",
      " 9   REPAY_M5   30000 non-null  int64\n",
      " 10  REPAY_M6   30000 non-null  int64\n",
      " 11  BILL_AMT1  30000 non-null  int64\n",
      " 12  BILL_AMT2  30000 non-null  int64\n",
      " 13  BILL_AMT3  30000 non-null  int64\n",
      " 14  BILL_AMT4  30000 non-null  int64\n",
      " 15  BILL_AMT5  30000 non-null  int64\n",
      " 16  BILL_AMT6  30000 non-null  int64\n",
      " 17  PAY_AMT1   30000 non-null  int64\n",
      " 18  PAY_AMT2   30000 non-null  int64\n",
      " 19  PAY_AMT3   30000 non-null  int64\n",
      " 20  PAY_AMT4   30000 non-null  int64\n",
      " 21  PAY_AMT5   30000 non-null  int64\n",
      " 22  PAY_AMT6   30000 non-null  int64\n",
      " 23  default    30000 non-null  int64\n",
      "dtypes: int64(24)\n",
      "memory usage: 5.5 MB\n"
     ]
    }
   ],
   "source": [
    "df = pd.read_csv(\"credit-card-default.zip\")\n",
    "df.info()"
   ]
  },
  {
   "cell_type": "code",
   "execution_count": 36,
   "id": "6367feb3",
   "metadata": {},
   "outputs": [
    {
     "name": "stdout",
     "output_type": "stream",
     "text": [
      "default\n",
      "0    23364\n",
      "1     6636\n",
      "Name: count, dtype: int64\n"
     ]
    }
   ],
   "source": [
    "print(df['default'].value_counts())"
   ]
  },
  {
   "cell_type": "code",
   "execution_count": 37,
   "id": "606345a9",
   "metadata": {},
   "outputs": [],
   "source": [
    "X_train, X_test, y_train, y_test = train_test_split(\n",
    "        df.drop('default', axis=1),\n",
    "        df['default'],\n",
    "        test_size = 0.20,\n",
    "        stratify = df['default'])"
   ]
  },
  {
   "cell_type": "code",
   "execution_count": 38,
   "id": "310a3dda",
   "metadata": {},
   "outputs": [
    {
     "name": "stdout",
     "output_type": "stream",
     "text": [
      "10-fold CV Score: 0.78 (+/- 0.016958)\n"
     ]
    }
   ],
   "source": [
    "from sklearn.ensemble import RandomForestClassifier\n",
    "# n_estimators: number of trees\n",
    "forest = RandomForestClassifier(n_estimators = 5)\n",
    "# K-fold cross-validation\n",
    "scores = cross_val_score(forest, X_train, y_train, cv=10)\n",
    "print(f\"{len(scores)}-fold CV Score: {scores.mean():.2f} (+/- {scores.std() * 2:2f})\")"
   ]
  },
  {
   "cell_type": "code",
   "execution_count": 39,
   "id": "eff17ca3",
   "metadata": {},
   "outputs": [
    {
     "name": "stdout",
     "output_type": "stream",
     "text": [
      "10-fold CV Score: 0.43 (+/- 0.035258)\n"
     ]
    }
   ],
   "source": [
    "np.random.seed(10)\n",
    "from sklearn.metrics import make_scorer, f1_score\n",
    "f1_scorer = make_scorer(f1_score)\n",
    "\n",
    "# K-fold cross-validation\n",
    "scores = cross_val_score(forest, X_train, y_train, cv=10, scoring = f1_scorer)\n",
    "print(f\"{len(scores)}-fold CV Score: {scores.mean():.2f} (+/- {scores.std() * 2:2f})\")"
   ]
  },
  {
   "cell_type": "code",
   "execution_count": 40,
   "id": "74eb9786",
   "metadata": {},
   "outputs": [
    {
     "name": "stdout",
     "output_type": "stream",
     "text": [
      "10-fold CV Score: 0.43 (+/- 0.035258)\n"
     ]
    }
   ],
   "source": [
    "np.random.seed(10)\n",
    "# write my own f1 function\n",
    "def custom_f1_score(y_true, y_pred):\n",
    "    # True Positives\n",
    "    TP = np.sum((y_true == 1) & (y_pred == 1)) \n",
    "    # False Positives\n",
    "    FP = np.sum((y_true == 0) & (y_pred == 1))\n",
    "    # False Negatives\n",
    "    FN = np.sum((y_true == 1) & (y_pred == 0)) \n",
    "    # Precision\n",
    "    precision = TP / (TP + FP) if TP + FP != 0 else 0\n",
    "    # Recall\n",
    "    recall = TP / (TP + FN) if TP + FN != 0 else 0\n",
    "    # F1 Score\n",
    "    f1 = 2 * (precision * recall) / (precision + recall) if precision + recall != 0 else 0\n",
    "    return f1\n",
    "f1_scorer_own = make_scorer(custom_f1_score)\n",
    "# K-fold cross-validation\n",
    "scores = cross_val_score(forest, X_train, y_train, cv=10, scoring = f1_scorer_own)\n",
    "print(f\"{len(scores)}-fold CV Score: {scores.mean():.2f} (+/- {scores.std() * 2:2f})\")"
   ]
  },
  {
   "cell_type": "markdown",
   "id": "e9847a52-1a9c-4aca-b4b1-9a641ebc0152",
   "metadata": {},
   "source": [
    "## 5. Predicting Boston House Prices"
   ]
  },
  {
   "cell_type": "code",
   "execution_count": 41,
   "id": "7d2a439c",
   "metadata": {},
   "outputs": [],
   "source": [
    "# California House Prices dataset\n",
    "from sklearn.datasets import fetch_california_housing\n",
    "housing = fetch_california_housing(as_frame=True)"
   ]
  },
  {
   "cell_type": "code",
   "execution_count": 42,
   "id": "b31a36f5",
   "metadata": {},
   "outputs": [],
   "source": [
    "from sklearn.model_selection import train_test_split\n",
    "# 1. Split train/test\n",
    "X_train, X_test, y_train, y_test = train_test_split(housing.data, housing.target, test_size = 0.10)\n",
    "# Standardization (z-score normalization)\n",
    "from sklearn.preprocessing import StandardScaler\n",
    "# We fit the scaler on the train data and apply to both train and test\n",
    "scaler = StandardScaler()\n",
    "scaler.fit(X_train)\n",
    "X_train_scaled = scaler.transform(X_train)\n",
    "X_test_scaled = scaler.transform(X_test)"
   ]
  },
  {
   "cell_type": "code",
   "execution_count": 43,
   "id": "feed8921",
   "metadata": {},
   "outputs": [
    {
     "name": "stdout",
     "output_type": "stream",
     "text": [
      "10-fold CV Score: 0.73 (+/- 0.041349)\n"
     ]
    }
   ],
   "source": [
    "from sklearn.neural_network import MLPRegressor\n",
    "mlp = MLPRegressor(hidden_layer_sizes=10, solver='sgd', max_iter=1000)\n",
    "# K-fold cross-validation\n",
    "scores = cross_val_score(mlp, X_train_scaled, y_train, cv=10)\n",
    "print(f\"{len(scores)}-fold CV Score: {scores.mean():.2f} (+/- {2*scores.std():2f})\")"
   ]
  },
  {
   "cell_type": "code",
   "execution_count": 44,
   "id": "eb639f5f",
   "metadata": {},
   "outputs": [
    {
     "data": {
      "text/plain": [
       "0.6944364857300468"
      ]
     },
     "execution_count": 44,
     "metadata": {},
     "output_type": "execute_result"
    }
   ],
   "source": [
    "# Refit using all training data\n",
    "mlp.fit(X_train_scaled, y_train)\n",
    "mlp.score(X_test_scaled, y_test)"
   ]
  },
  {
   "cell_type": "markdown",
   "id": "fad2b249",
   "metadata": {},
   "source": [
    "#### Grid Search applied to MLP"
   ]
  },
  {
   "cell_type": "code",
   "execution_count": 45,
   "id": "a75476e7",
   "metadata": {},
   "outputs": [],
   "source": [
    "import warnings\n",
    "from sklearn.exceptions import ConvergenceWarning\n",
    "warnings.filterwarnings(action='ignore', category=ConvergenceWarning)\n",
    "\n",
    "mlp = MLPRegressor(max_iter=200)\n",
    "# Parameters and values to tune\n",
    "param_grid = dict(hidden_layer_sizes= [10, 25, (5,5), (10,10)], solver = ['lbfgs','sgd'])"
   ]
  },
  {
   "cell_type": "code",
   "execution_count": 46,
   "id": "59de148c",
   "metadata": {},
   "outputs": [
    {
     "name": "stdout",
     "output_type": "stream",
     "text": [
      "Best parameters found: {'hidden_layer_sizes': (10, 10), 'solver': 'lbfgs'}\n",
      "Mean CV score of best parameters: 0.7740016066548872\n",
      "Score of best parameters on test data: 0.7683606549557446\n"
     ]
    }
   ],
   "source": [
    "from sklearn.model_selection import GridSearchCV\n",
    "gs = GridSearchCV(mlp, param_grid, cv=10)\n",
    "# Run the search\n",
    "gs.fit(X_train_scaled, y_train)\n",
    "print(\"Best parameters found:\", gs.best_params_)\n",
    "print(\"Mean CV score of best parameters:\", gs.best_score_)\n",
    "# Before calculating the score, the model is refit using all training data.\n",
    "print(\"Score of best parameters on test data:\", gs.score(X_test_scaled, y_test))"
   ]
  },
  {
   "cell_type": "markdown",
   "id": "0ef7f856-50c8-4946-9371-2985f7740808",
   "metadata": {},
   "source": [
    "## 6. Random Search applied to MLP"
   ]
  },
  {
   "cell_type": "code",
   "execution_count": 47,
   "id": "60f2dd3c-1207-45cf-b4e9-6589f3ff4807",
   "metadata": {},
   "outputs": [],
   "source": [
    "from sklearn.neural_network import MLPRegressor\n",
    "from timeit import default_timer as timer\n",
    "\n",
    "from sklearn.model_selection import RandomizedSearchCV\n",
    "import warnings\n",
    "from sklearn.exceptions import ConvergenceWarning\n",
    "warnings.filterwarnings(action='ignore', category=ConvergenceWarning)"
   ]
  },
  {
   "cell_type": "code",
   "execution_count": 48,
   "id": "067c2e3d",
   "metadata": {},
   "outputs": [],
   "source": [
    "# data same as above\n",
    "# California House Prices dataset\n",
    "from sklearn.datasets import fetch_california_housing\n",
    "housing = fetch_california_housing(as_frame=True)\n",
    "housing.data.head()\n",
    "from sklearn.model_selection import train_test_split\n",
    "# 1. Split train/test\n",
    "X_train, X_test, y_train, y_test = train_test_split(housing.data, housing.target, test_size = 0.10)\n",
    "# Standardization (z-score normalization)\n",
    "from sklearn.preprocessing import StandardScaler\n",
    "# We fit the scaler on the train data and apply to both train and test\n",
    "scaler = StandardScaler()\n",
    "scaler.fit(X_train)\n",
    "X_train_scaled = scaler.transform(X_train)\n",
    "X_test_scaled = scaler.transform(X_test)"
   ]
  },
  {
   "cell_type": "code",
   "execution_count": 49,
   "id": "5a7e2ac7-3c1a-4a41-a53b-c015cb48afbd",
   "metadata": {
    "scrolled": true
   },
   "outputs": [
    {
     "name": "stdout",
     "output_type": "stream",
     "text": [
      "RandomizedSearch took 179.53 seconds for 10 hyper-parameter configurations.\n"
     ]
    }
   ],
   "source": [
    "param_dist = dict(hidden_layer_sizes = [5, 10,15,20,25, 30,(5,5), (10,10)],\n",
    "                  solver = ['lbfgs','sgd'])\n",
    "n_iter_search = 10\n",
    "random_search = RandomizedSearchCV(MLPRegressor(max_iter=200), \n",
    "                                   param_distributions=param_dist,\n",
    "                                   n_iter=n_iter_search, cv=10)\n",
    "start = timer()\n",
    "random_search.fit(X_train_scaled, y_train)\n",
    "print(f\"RandomizedSearch took {timer() - start:.2f} seconds for {n_iter_search} hyper-parameter configurations.\")"
   ]
  },
  {
   "cell_type": "code",
   "execution_count": 50,
   "id": "48e7a684",
   "metadata": {},
   "outputs": [
    {
     "name": "stdout",
     "output_type": "stream",
     "text": [
      "Best parameters set found: {'solver': 'lbfgs', 'hidden_layer_sizes': 30}\n",
      "Mean CV score of best parameters: 0.7716373393646961\n",
      "Score of best parameters on test data: 0.7682214609219714\n"
     ]
    }
   ],
   "source": [
    "print(\"Best parameters set found:\", random_search.best_params_)\n",
    "print(\"Mean CV score of best parameters:\", random_search.best_score_)\n",
    "# Before calculating the score, the model is refit using all training data.\n",
    "print(\"Score of best parameters on test data:\",\n",
    "      random_search.score(X_test_scaled, y_test))"
   ]
  },
  {
   "cell_type": "markdown",
   "id": "6599cbf1",
   "metadata": {},
   "source": [
    "## 7. Default in Credit Card Payments Dataset"
   ]
  },
  {
   "cell_type": "code",
   "execution_count": 51,
   "id": "9c0124a8",
   "metadata": {
    "scrolled": false
   },
   "outputs": [
    {
     "name": "stdout",
     "output_type": "stream",
     "text": [
      "<class 'pandas.core.frame.DataFrame'>\n",
      "RangeIndex: 30000 entries, 0 to 29999\n",
      "Data columns (total 24 columns):\n",
      " #   Column     Non-Null Count  Dtype\n",
      "---  ------     --------------  -----\n",
      " 0   LIMIT_BAL  30000 non-null  int64\n",
      " 1   GENDER     30000 non-null  int64\n",
      " 2   EDUCATION  30000 non-null  int64\n",
      " 3   MARRIAGE   30000 non-null  int64\n",
      " 4   AGE        30000 non-null  int64\n",
      " 5   REPAY_M1   30000 non-null  int64\n",
      " 6   REPAY_M2   30000 non-null  int64\n",
      " 7   REPAY_M3   30000 non-null  int64\n",
      " 8   REPAY_M4   30000 non-null  int64\n",
      " 9   REPAY_M5   30000 non-null  int64\n",
      " 10  REPAY_M6   30000 non-null  int64\n",
      " 11  BILL_AMT1  30000 non-null  int64\n",
      " 12  BILL_AMT2  30000 non-null  int64\n",
      " 13  BILL_AMT3  30000 non-null  int64\n",
      " 14  BILL_AMT4  30000 non-null  int64\n",
      " 15  BILL_AMT5  30000 non-null  int64\n",
      " 16  BILL_AMT6  30000 non-null  int64\n",
      " 17  PAY_AMT1   30000 non-null  int64\n",
      " 18  PAY_AMT2   30000 non-null  int64\n",
      " 19  PAY_AMT3   30000 non-null  int64\n",
      " 20  PAY_AMT4   30000 non-null  int64\n",
      " 21  PAY_AMT5   30000 non-null  int64\n",
      " 22  PAY_AMT6   30000 non-null  int64\n",
      " 23  default    30000 non-null  int64\n",
      "dtypes: int64(24)\n",
      "memory usage: 5.5 MB\n"
     ]
    }
   ],
   "source": [
    "import pandas as pd\n",
    "from sklearn.model_selection import train_test_split, cross_val_score\n",
    "\n",
    "df = pd.read_csv(\"credit-card-default.zip\")\n",
    "df.info()"
   ]
  },
  {
   "cell_type": "code",
   "execution_count": 52,
   "id": "e789913a",
   "metadata": {},
   "outputs": [
    {
     "name": "stdout",
     "output_type": "stream",
     "text": [
      "default\n",
      "0    23364\n",
      "1     6636\n",
      "Name: count, dtype: int64\n"
     ]
    }
   ],
   "source": [
    "print(df['default'].value_counts())"
   ]
  },
  {
   "cell_type": "code",
   "execution_count": 53,
   "id": "cd2a7430",
   "metadata": {},
   "outputs": [
    {
     "name": "stdout",
     "output_type": "stream",
     "text": [
      "10-fold CV Score: 0.79 (+/- 0.012309)\n",
      "10-fold CV Score: 0.44 (+/- 0.025044)\n"
     ]
    }
   ],
   "source": [
    "X_train, X_test, y_train, y_test = train_test_split(\n",
    "        df.drop('default', axis=1),\n",
    "        df['default'],\n",
    "        test_size = 0.20,\n",
    "        stratify = df['default'])\n",
    "\n",
    "from sklearn.ensemble import RandomForestClassifier\n",
    "# n_estimators: number of trees\n",
    "forest = RandomForestClassifier(n_estimators = 5)\n",
    "# K-fold cross-validation\n",
    "scores = cross_val_score(forest, X_train, y_train, cv=10)\n",
    "print(f\"{len(scores)}-fold CV Score: {scores.mean():.2f} (+/- {2*scores.std():2f})\")\n",
    "\n",
    "from sklearn.metrics import make_scorer, f1_score\n",
    "f1_scorer = make_scorer(f1_score)\n",
    "# K-fold cross-validation\n",
    "scores = cross_val_score(forest, X_train, y_train, cv=10, scoring = f1_scorer)\n",
    "print(f\"{len(scores)}-fold CV Score: {scores.mean():.2f} (+/- {2*scores.std():2f})\")\n",
    "\n"
   ]
  },
  {
   "cell_type": "markdown",
   "id": "e512cdbd",
   "metadata": {},
   "source": [
    "#### Optimise the hyper-parameters\u000b",
    "of random forests using random search"
   ]
  },
  {
   "cell_type": "code",
   "execution_count": 54,
   "id": "3e0b9a23",
   "metadata": {},
   "outputs": [
    {
     "name": "stdout",
     "output_type": "stream",
     "text": [
      "Best parameters set found: {'max_depth': 10, 'n_estimators': 13}\n",
      "Mean score of best parameters: 0.8185833333333333\n"
     ]
    }
   ],
   "source": [
    "import scipy.stats as sp\n",
    "# sp.randint generates a discrete random number generator (RNG)\n",
    "param_dist = dict(n_estimators = sp.randint(5,20, 1),\n",
    "                  # None is the default value and means maximum depth\n",
    "                  max_depth = [10, 50, 100, None])              \n",
    "from sklearn.model_selection import RandomizedSearchCV\n",
    "n_iter_search = 10\n",
    "randsearch = RandomizedSearchCV(RandomForestClassifier(),\n",
    "                                param_distributions = param_dist,\n",
    "                                n_iter = n_iter_search, cv=10,n_jobs = 2)\n",
    "randsearch.fit(X_train, y_train)\n",
    "print(\"Best parameters set found:\", randsearch.best_params_)\n",
    "print(\"Mean score of best parameters:\", randsearch.best_score_)"
   ]
  },
  {
   "cell_type": "markdown",
   "id": "53d28fa3",
   "metadata": {},
   "source": [
    "#### Optimize the F1-score\u000b",
    "of random forests using random search"
   ]
  },
  {
   "cell_type": "code",
   "execution_count": 55,
   "id": "2e12875e-1a4d-4c59-be83-11b760efdd04",
   "metadata": {},
   "outputs": [
    {
     "name": "stdout",
     "output_type": "stream",
     "text": [
      "Best parameters set found: {'max_depth': 10, 'n_estimators': 15}\n",
      "Mean F1-score of best parameters: 0.46753128611010214\n"
     ]
    }
   ],
   "source": [
    "from sklearn.metrics import make_scorer, f1_score\n",
    "f1_scorer = make_scorer(f1_score)\n",
    "randsearch = RandomizedSearchCV(RandomForestClassifier(),\n",
    "                                param_distributions = param_dist,\n",
    "                                n_iter = n_iter_search, \n",
    "                                cv=10, \n",
    "                                n_jobs = 2,\n",
    "                                scoring = f1_scorer)\n",
    "randsearch.fit(X_train, y_train)\n",
    "print(\"Best parameters set found:\", randsearch.best_params_)\n",
    "print(\"Mean F1-score of best parameters:\", randsearch.best_score_)\n"
   ]
  },
  {
   "cell_type": "markdown",
   "id": "406e86f7",
   "metadata": {},
   "source": [
    "## 8. Scaling train/test data"
   ]
  },
  {
   "cell_type": "code",
   "execution_count": 56,
   "id": "fa5d53a4",
   "metadata": {
    "scrolled": true
   },
   "outputs": [
    {
     "name": "stdout",
     "output_type": "stream",
     "text": [
      ".. _california_housing_dataset:\n",
      "\n",
      "California Housing dataset\n",
      "--------------------------\n",
      "\n",
      "**Data Set Characteristics:**\n",
      "\n",
      "    :Number of Instances: 20640\n",
      "\n",
      "    :Number of Attributes: 8 numeric, predictive attributes and the target\n",
      "\n",
      "    :Attribute Information:\n",
      "        - MedInc        median income in block group\n",
      "        - HouseAge      median house age in block group\n",
      "        - AveRooms      average number of rooms per household\n",
      "        - AveBedrms     average number of bedrooms per household\n",
      "        - Population    block group population\n",
      "        - AveOccup      average number of household members\n",
      "        - Latitude      block group latitude\n",
      "        - Longitude     block group longitude\n",
      "\n",
      "    :Missing Attribute Values: None\n",
      "\n",
      "This dataset was obtained from the StatLib repository.\n",
      "https://www.dcc.fc.up.pt/~ltorgo/Regression/cal_housing.html\n",
      "\n",
      "The target variable is the median house value for California districts,\n",
      "expressed in hundreds of thousands of dollars ($100,000).\n",
      "\n",
      "This dataset was derived from the 1990 U.S. census, using one row per census\n",
      "block group. A block group is the smallest geographical unit for which the U.S.\n",
      "Census Bureau publishes sample data (a block group typically has a population\n",
      "of 600 to 3,000 people).\n",
      "\n",
      "A household is a group of people residing within a home. Since the average\n",
      "number of rooms and bedrooms in this dataset are provided per household, these\n",
      "columns may take surprisingly large values for block groups with few households\n",
      "and many empty houses, such as vacation resorts.\n",
      "\n",
      "It can be downloaded/loaded using the\n",
      ":func:`sklearn.datasets.fetch_california_housing` function.\n",
      "\n",
      ".. topic:: References\n",
      "\n",
      "    - Pace, R. Kelley and Ronald Barry, Sparse Spatial Autoregressions,\n",
      "      Statistics and Probability Letters, 33 (1997) 291-297\n",
      "\n"
     ]
    }
   ],
   "source": [
    "from sklearn.datasets import fetch_california_housing\n",
    "housing = fetch_california_housing(as_frame=True)\n",
    "print(housing.DESCR)"
   ]
  },
  {
   "cell_type": "markdown",
   "id": "c460ee9b",
   "metadata": {},
   "source": [
    "#### splitting training and test data + scaling"
   ]
  },
  {
   "cell_type": "code",
   "execution_count": 57,
   "id": "512a29ee",
   "metadata": {},
   "outputs": [],
   "source": [
    "from sklearn.model_selection import train_test_split\n",
    "# 1. Split train/test\n",
    "X_train, X_test, y_train, y_test = train_test_split(housing.data, housing.target, test_size = 0.10)\n",
    "# Standardization (z-score normalization)\n",
    "from sklearn.preprocessing import StandardScaler\n",
    "# We fit the scaler on the train data and apply to both train and test\n",
    "scaler = StandardScaler()\n",
    "scaler.fit(X_train)\n",
    "X_train_scaled = scaler.transform(X_train)\n",
    "X_test_scaled = scaler.transform(X_test)"
   ]
  },
  {
   "cell_type": "markdown",
   "id": "864627fd",
   "metadata": {},
   "source": [
    "#### CV for random hyperparameter search "
   ]
  },
  {
   "cell_type": "code",
   "execution_count": 58,
   "id": "5be42f53",
   "metadata": {
    "scrolled": true
   },
   "outputs": [
    {
     "name": "stdout",
     "output_type": "stream",
     "text": [
      "Best parameters set found: {'solver': 'lbfgs', 'hidden_layer_sizes': (10, 10)}\n",
      "Mean CV score of best parameters: 0.7687853703301184\n"
     ]
    }
   ],
   "source": [
    "from sklearn.neural_network import MLPRegressor\n",
    "import warnings\n",
    "from sklearn.exceptions import ConvergenceWarning\n",
    "warnings.filterwarnings(action='ignore', category=ConvergenceWarning)\n",
    "\n",
    "param_dist = dict(hidden_layer_sizes = [5, 10,15,20,25, 30,(5,5), (10,10)],\n",
    "                  solver = ['lbfgs','sgd'])\n",
    "\n",
    "from sklearn.model_selection import RandomizedSearchCV\n",
    "n_iter_search = 10\n",
    "random_search = RandomizedSearchCV(\n",
    "        MLPRegressor(max_iter=200), param_distributions=param_dist,\n",
    "        n_iter=n_iter_search, cv=10, random_state=42)\n",
    "random_search.fit(X_train_scaled, y_train)\n",
    "print(\"Best parameters set found:\", random_search.best_params_)\n",
    "print(\"Mean CV score of best parameters:\", random_search.best_score_)"
   ]
  },
  {
   "cell_type": "markdown",
   "id": "2e84e043",
   "metadata": {},
   "source": [
    "## 9. Scaling train/test data (pipeline)"
   ]
  },
  {
   "cell_type": "code",
   "execution_count": 59,
   "id": "a94bc236",
   "metadata": {},
   "outputs": [
    {
     "data": {
      "text/html": [
       "<style>#sk-container-id-1 {color: black;}#sk-container-id-1 pre{padding: 0;}#sk-container-id-1 div.sk-toggleable {background-color: white;}#sk-container-id-1 label.sk-toggleable__label {cursor: pointer;display: block;width: 100%;margin-bottom: 0;padding: 0.3em;box-sizing: border-box;text-align: center;}#sk-container-id-1 label.sk-toggleable__label-arrow:before {content: \"▸\";float: left;margin-right: 0.25em;color: #696969;}#sk-container-id-1 label.sk-toggleable__label-arrow:hover:before {color: black;}#sk-container-id-1 div.sk-estimator:hover label.sk-toggleable__label-arrow:before {color: black;}#sk-container-id-1 div.sk-toggleable__content {max-height: 0;max-width: 0;overflow: hidden;text-align: left;background-color: #f0f8ff;}#sk-container-id-1 div.sk-toggleable__content pre {margin: 0.2em;color: black;border-radius: 0.25em;background-color: #f0f8ff;}#sk-container-id-1 input.sk-toggleable__control:checked~div.sk-toggleable__content {max-height: 200px;max-width: 100%;overflow: auto;}#sk-container-id-1 input.sk-toggleable__control:checked~label.sk-toggleable__label-arrow:before {content: \"▾\";}#sk-container-id-1 div.sk-estimator input.sk-toggleable__control:checked~label.sk-toggleable__label {background-color: #d4ebff;}#sk-container-id-1 div.sk-label input.sk-toggleable__control:checked~label.sk-toggleable__label {background-color: #d4ebff;}#sk-container-id-1 input.sk-hidden--visually {border: 0;clip: rect(1px 1px 1px 1px);clip: rect(1px, 1px, 1px, 1px);height: 1px;margin: -1px;overflow: hidden;padding: 0;position: absolute;width: 1px;}#sk-container-id-1 div.sk-estimator {font-family: monospace;background-color: #f0f8ff;border: 1px dotted black;border-radius: 0.25em;box-sizing: border-box;margin-bottom: 0.5em;}#sk-container-id-1 div.sk-estimator:hover {background-color: #d4ebff;}#sk-container-id-1 div.sk-parallel-item::after {content: \"\";width: 100%;border-bottom: 1px solid gray;flex-grow: 1;}#sk-container-id-1 div.sk-label:hover label.sk-toggleable__label {background-color: #d4ebff;}#sk-container-id-1 div.sk-serial::before {content: \"\";position: absolute;border-left: 1px solid gray;box-sizing: border-box;top: 0;bottom: 0;left: 50%;z-index: 0;}#sk-container-id-1 div.sk-serial {display: flex;flex-direction: column;align-items: center;background-color: white;padding-right: 0.2em;padding-left: 0.2em;position: relative;}#sk-container-id-1 div.sk-item {position: relative;z-index: 1;}#sk-container-id-1 div.sk-parallel {display: flex;align-items: stretch;justify-content: center;background-color: white;position: relative;}#sk-container-id-1 div.sk-item::before, #sk-container-id-1 div.sk-parallel-item::before {content: \"\";position: absolute;border-left: 1px solid gray;box-sizing: border-box;top: 0;bottom: 0;left: 50%;z-index: -1;}#sk-container-id-1 div.sk-parallel-item {display: flex;flex-direction: column;z-index: 1;position: relative;background-color: white;}#sk-container-id-1 div.sk-parallel-item:first-child::after {align-self: flex-end;width: 50%;}#sk-container-id-1 div.sk-parallel-item:last-child::after {align-self: flex-start;width: 50%;}#sk-container-id-1 div.sk-parallel-item:only-child::after {width: 0;}#sk-container-id-1 div.sk-dashed-wrapped {border: 1px dashed gray;margin: 0 0.4em 0.5em 0.4em;box-sizing: border-box;padding-bottom: 0.4em;background-color: white;}#sk-container-id-1 div.sk-label label {font-family: monospace;font-weight: bold;display: inline-block;line-height: 1.2em;}#sk-container-id-1 div.sk-label-container {text-align: center;}#sk-container-id-1 div.sk-container {/* jupyter's `normalize.less` sets `[hidden] { display: none; }` but bootstrap.min.css set `[hidden] { display: none !important; }` so we also need the `!important` here to be able to override the default hidden behavior on the sphinx rendered scikit-learn.org. See: https://github.com/scikit-learn/scikit-learn/issues/21755 */display: inline-block !important;position: relative;}#sk-container-id-1 div.sk-text-repr-fallback {display: none;}</style><div id=\"sk-container-id-1\" class=\"sk-top-container\"><div class=\"sk-text-repr-fallback\"><pre>Pipeline(steps=[(&#x27;stdscale&#x27;, StandardScaler()), (&#x27;mlp&#x27;, MLPRegressor())])</pre><b>In a Jupyter environment, please rerun this cell to show the HTML representation or trust the notebook. <br />On GitHub, the HTML representation is unable to render, please try loading this page with nbviewer.org.</b></div><div class=\"sk-container\" hidden><div class=\"sk-item sk-dashed-wrapped\"><div class=\"sk-label-container\"><div class=\"sk-label sk-toggleable\"><input class=\"sk-toggleable__control sk-hidden--visually\" id=\"sk-estimator-id-1\" type=\"checkbox\" ><label for=\"sk-estimator-id-1\" class=\"sk-toggleable__label sk-toggleable__label-arrow\">Pipeline</label><div class=\"sk-toggleable__content\"><pre>Pipeline(steps=[(&#x27;stdscale&#x27;, StandardScaler()), (&#x27;mlp&#x27;, MLPRegressor())])</pre></div></div></div><div class=\"sk-serial\"><div class=\"sk-item\"><div class=\"sk-estimator sk-toggleable\"><input class=\"sk-toggleable__control sk-hidden--visually\" id=\"sk-estimator-id-2\" type=\"checkbox\" ><label for=\"sk-estimator-id-2\" class=\"sk-toggleable__label sk-toggleable__label-arrow\">StandardScaler</label><div class=\"sk-toggleable__content\"><pre>StandardScaler()</pre></div></div></div><div class=\"sk-item\"><div class=\"sk-estimator sk-toggleable\"><input class=\"sk-toggleable__control sk-hidden--visually\" id=\"sk-estimator-id-3\" type=\"checkbox\" ><label for=\"sk-estimator-id-3\" class=\"sk-toggleable__label sk-toggleable__label-arrow\">MLPRegressor</label><div class=\"sk-toggleable__content\"><pre>MLPRegressor()</pre></div></div></div></div></div></div></div>"
      ],
      "text/plain": [
       "Pipeline(steps=[('stdscale', StandardScaler()), ('mlp', MLPRegressor())])"
      ]
     },
     "execution_count": 59,
     "metadata": {},
     "output_type": "execute_result"
    }
   ],
   "source": [
    "from sklearn.pipeline import Pipeline\n",
    "pipeline = Pipeline([('stdscale', StandardScaler()),\n",
    "                     ('mlp',  MLPRegressor())])\n",
    "from sklearn import set_config\n",
    "set_config(display=\"diagram\")\n",
    "pipeline"
   ]
  },
  {
   "cell_type": "code",
   "execution_count": 60,
   "id": "2e192ac1",
   "metadata": {},
   "outputs": [
    {
     "name": "stdout",
     "output_type": "stream",
     "text": [
      "Best parameters set found: {'mlp__solver': 'lbfgs', 'mlp__hidden_layer_sizes': 25}\n",
      "Mean CV score of best parameters: 0.7656613060993317\n"
     ]
    }
   ],
   "source": [
    "import warnings\n",
    "from sklearn.exceptions import ConvergenceWarning\n",
    "warnings.filterwarnings(action='ignore', category=ConvergenceWarning)\n",
    "# Prefix hyper-parameters with mlp__\n",
    "pipe_param_dist = dict(mlp__hidden_layer_sizes = [5, 10,15,20,25, 30,(5,5), (10,10)],\n",
    "                       mlp__solver = ['lbfgs','sgd'])\n",
    "\n",
    "random_search = RandomizedSearchCV(\n",
    "        pipeline, param_distributions=pipe_param_dist,\n",
    "        n_iter=n_iter_search, cv=10, random_state=42)\n",
    "random_search.fit(X_train, y_train)\n",
    "print(\"Best parameters set found:\", random_search.best_params_)\n",
    "print(\"Mean CV score of best parameters:\", random_search.best_score_)"
   ]
  },
  {
   "cell_type": "code",
   "execution_count": null,
   "id": "58df1404",
   "metadata": {},
   "outputs": [],
   "source": []
  }
 ],
 "metadata": {
  "kernelspec": {
   "display_name": "Python 3 (ipykernel)",
   "language": "python",
   "name": "python3"
  },
  "language_info": {
   "codemirror_mode": {
    "name": "ipython",
    "version": 3
   },
   "file_extension": ".py",
   "mimetype": "text/x-python",
   "name": "python",
   "nbconvert_exporter": "python",
   "pygments_lexer": "ipython3",
   "version": "3.11.5"
  }
 },
 "nbformat": 4,
 "nbformat_minor": 5
}
