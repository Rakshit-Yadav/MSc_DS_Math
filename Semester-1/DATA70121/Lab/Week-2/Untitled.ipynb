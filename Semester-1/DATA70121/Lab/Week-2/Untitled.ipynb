{
 "cells": [
  {
   "cell_type": "markdown",
   "id": "32ffef21-d8b9-40db-84d1-3dbaf8aa46c3",
   "metadata": {},
   "source": [
    "# Week-2"
   ]
  },
  {
   "cell_type": "markdown",
   "id": "abab0d9c-9a80-4f63-aacf-815aa0f99825",
   "metadata": {},
   "source": [
    "## Exploratory Data Analysis for Earthquakes"
   ]
  },
  {
   "cell_type": "code",
   "execution_count": 1,
   "id": "22e9b1d3-36fb-427c-a30d-9012a7a335f0",
   "metadata": {
    "tags": []
   },
   "outputs": [],
   "source": [
    "#Libraries to import\n",
    "\n",
    "# libraries for basic numeics\n",
    "import numpy as np\n",
    "import scipy as sp\n",
    "import scipy.stats as st\n",
    "\n",
    "# libraries for data handling\n",
    "import pandas as pd\n",
    "\n",
    "# libraries for graphics, i.e., plotting and graphs\n",
    "import matplotlib.pyplot as plt\n",
    "import seaborn as sns\n",
    "sns.set_style(\"whitegrid\", {'axes.grid':False})\n",
    "\n",
    "# statistical tools\n",
    "from statsmodels.distributions.empirical_distribution import ECDF\n",
    "import statsmodels.api as sm"
   ]
  },
  {
   "cell_type": "code",
   "execution_count": 2,
   "id": "91226e84-c622-4b55-95a5-aa1fb510c680",
   "metadata": {
    "tags": []
   },
   "outputs": [],
   "source": [
    "# for receiving plots and figures, we have to have a directory\n",
    "import os\n",
    "if not os.path.exists('Figures'):\n",
    "    os.makedirs('Figures')"
   ]
  },
  {
   "cell_type": "code",
   "execution_count": 6,
   "id": "34fb86c9-7b79-4046-9c13-8418890de530",
   "metadata": {
    "tags": []
   },
   "outputs": [],
   "source": [
    "# for reading the csv file of earthquakes, we use pandas\n",
    "df = pd.read_csv('./earthquakes_US_14Jul-13Aug_2018.csv')"
   ]
  },
  {
   "cell_type": "code",
   "execution_count": 7,
   "id": "fa8a652b-4023-4fbd-82c6-084eb1c95130",
   "metadata": {
    "tags": []
   },
   "outputs": [
    {
     "data": {
      "text/html": [
       "<div>\n",
       "<style scoped>\n",
       "    .dataframe tbody tr th:only-of-type {\n",
       "        vertical-align: middle;\n",
       "    }\n",
       "\n",
       "    .dataframe tbody tr th {\n",
       "        vertical-align: top;\n",
       "    }\n",
       "\n",
       "    .dataframe thead th {\n",
       "        text-align: right;\n",
       "    }\n",
       "</style>\n",
       "<table border=\"1\" class=\"dataframe\">\n",
       "  <thead>\n",
       "    <tr style=\"text-align: right;\">\n",
       "      <th></th>\n",
       "      <th>time</th>\n",
       "      <th>latitude</th>\n",
       "      <th>longitude</th>\n",
       "      <th>depth</th>\n",
       "      <th>mag</th>\n",
       "      <th>magType</th>\n",
       "      <th>nst</th>\n",
       "      <th>gap</th>\n",
       "      <th>dmin</th>\n",
       "      <th>rms</th>\n",
       "      <th>...</th>\n",
       "      <th>updated</th>\n",
       "      <th>place</th>\n",
       "      <th>type</th>\n",
       "      <th>horizontalError</th>\n",
       "      <th>depthError</th>\n",
       "      <th>magError</th>\n",
       "      <th>magNst</th>\n",
       "      <th>status</th>\n",
       "      <th>locationSource</th>\n",
       "      <th>magSource</th>\n",
       "    </tr>\n",
       "  </thead>\n",
       "  <tbody>\n",
       "    <tr>\n",
       "      <th>0</th>\n",
       "      <td>2018-08-13T20:32:00.830Z</td>\n",
       "      <td>33.860333</td>\n",
       "      <td>-117.501167</td>\n",
       "      <td>1.50</td>\n",
       "      <td>1.56</td>\n",
       "      <td>ml</td>\n",
       "      <td>29.0</td>\n",
       "      <td>44.0</td>\n",
       "      <td>0.06337</td>\n",
       "      <td>0.2600</td>\n",
       "      <td>...</td>\n",
       "      <td>2018-08-13T20:35:51.429Z</td>\n",
       "      <td>3km SE of Home Gardens, CA</td>\n",
       "      <td>quarry blast</td>\n",
       "      <td>0.38</td>\n",
       "      <td>0.71</td>\n",
       "      <td>0.213</td>\n",
       "      <td>37.0</td>\n",
       "      <td>automatic</td>\n",
       "      <td>ci</td>\n",
       "      <td>ci</td>\n",
       "    </tr>\n",
       "    <tr>\n",
       "      <th>1</th>\n",
       "      <td>2018-08-13T20:15:08.350Z</td>\n",
       "      <td>33.523667</td>\n",
       "      <td>-116.747333</td>\n",
       "      <td>3.69</td>\n",
       "      <td>0.40</td>\n",
       "      <td>ml</td>\n",
       "      <td>14.0</td>\n",
       "      <td>90.0</td>\n",
       "      <td>0.04246</td>\n",
       "      <td>0.0800</td>\n",
       "      <td>...</td>\n",
       "      <td>2018-08-13T20:18:36.325Z</td>\n",
       "      <td>8km WSW of Anza, CA</td>\n",
       "      <td>earthquake</td>\n",
       "      <td>0.18</td>\n",
       "      <td>0.42</td>\n",
       "      <td>0.137</td>\n",
       "      <td>9.0</td>\n",
       "      <td>automatic</td>\n",
       "      <td>ci</td>\n",
       "      <td>ci</td>\n",
       "    </tr>\n",
       "    <tr>\n",
       "      <th>2</th>\n",
       "      <td>2018-08-13T20:11:13.973Z</td>\n",
       "      <td>40.601000</td>\n",
       "      <td>-115.955500</td>\n",
       "      <td>0.00</td>\n",
       "      <td>2.20</td>\n",
       "      <td>ml</td>\n",
       "      <td>12.0</td>\n",
       "      <td>108.3</td>\n",
       "      <td>0.43800</td>\n",
       "      <td>0.1944</td>\n",
       "      <td>...</td>\n",
       "      <td>2018-08-13T20:28:20.650Z</td>\n",
       "      <td>17km SE of Carlin, Nevada</td>\n",
       "      <td>explosion</td>\n",
       "      <td>NaN</td>\n",
       "      <td>0.00</td>\n",
       "      <td>0.080</td>\n",
       "      <td>8.0</td>\n",
       "      <td>reviewed</td>\n",
       "      <td>nn</td>\n",
       "      <td>nn</td>\n",
       "    </tr>\n",
       "    <tr>\n",
       "      <th>3</th>\n",
       "      <td>2018-08-13T20:09:39.080Z</td>\n",
       "      <td>33.482333</td>\n",
       "      <td>-116.744333</td>\n",
       "      <td>7.91</td>\n",
       "      <td>0.34</td>\n",
       "      <td>ml</td>\n",
       "      <td>18.0</td>\n",
       "      <td>65.0</td>\n",
       "      <td>0.06527</td>\n",
       "      <td>0.1800</td>\n",
       "      <td>...</td>\n",
       "      <td>2018-08-13T20:13:23.288Z</td>\n",
       "      <td>10km SW of Anza, CA</td>\n",
       "      <td>earthquake</td>\n",
       "      <td>0.35</td>\n",
       "      <td>0.86</td>\n",
       "      <td>0.093</td>\n",
       "      <td>8.0</td>\n",
       "      <td>automatic</td>\n",
       "      <td>ci</td>\n",
       "      <td>ci</td>\n",
       "    </tr>\n",
       "    <tr>\n",
       "      <th>4</th>\n",
       "      <td>2018-08-13T19:59:26.490Z</td>\n",
       "      <td>33.491167</td>\n",
       "      <td>-116.795500</td>\n",
       "      <td>2.54</td>\n",
       "      <td>0.39</td>\n",
       "      <td>ml</td>\n",
       "      <td>11.0</td>\n",
       "      <td>109.0</td>\n",
       "      <td>0.08857</td>\n",
       "      <td>0.0800</td>\n",
       "      <td>...</td>\n",
       "      <td>2018-08-13T20:02:57.234Z</td>\n",
       "      <td>8km NE of Aguanga, CA</td>\n",
       "      <td>earthquake</td>\n",
       "      <td>0.26</td>\n",
       "      <td>0.37</td>\n",
       "      <td>0.055</td>\n",
       "      <td>8.0</td>\n",
       "      <td>automatic</td>\n",
       "      <td>ci</td>\n",
       "      <td>ci</td>\n",
       "    </tr>\n",
       "  </tbody>\n",
       "</table>\n",
       "<p>5 rows × 22 columns</p>\n",
       "</div>"
      ],
      "text/plain": [
       "                       time   latitude   longitude  depth   mag magType   nst  \\\n",
       "0  2018-08-13T20:32:00.830Z  33.860333 -117.501167   1.50  1.56      ml  29.0   \n",
       "1  2018-08-13T20:15:08.350Z  33.523667 -116.747333   3.69  0.40      ml  14.0   \n",
       "2  2018-08-13T20:11:13.973Z  40.601000 -115.955500   0.00  2.20      ml  12.0   \n",
       "3  2018-08-13T20:09:39.080Z  33.482333 -116.744333   7.91  0.34      ml  18.0   \n",
       "4  2018-08-13T19:59:26.490Z  33.491167 -116.795500   2.54  0.39      ml  11.0   \n",
       "\n",
       "     gap     dmin     rms  ...                   updated  \\\n",
       "0   44.0  0.06337  0.2600  ...  2018-08-13T20:35:51.429Z   \n",
       "1   90.0  0.04246  0.0800  ...  2018-08-13T20:18:36.325Z   \n",
       "2  108.3  0.43800  0.1944  ...  2018-08-13T20:28:20.650Z   \n",
       "3   65.0  0.06527  0.1800  ...  2018-08-13T20:13:23.288Z   \n",
       "4  109.0  0.08857  0.0800  ...  2018-08-13T20:02:57.234Z   \n",
       "\n",
       "                        place          type horizontalError depthError  \\\n",
       "0  3km SE of Home Gardens, CA  quarry blast            0.38       0.71   \n",
       "1         8km WSW of Anza, CA    earthquake            0.18       0.42   \n",
       "2   17km SE of Carlin, Nevada     explosion             NaN       0.00   \n",
       "3         10km SW of Anza, CA    earthquake            0.35       0.86   \n",
       "4       8km NE of Aguanga, CA    earthquake            0.26       0.37   \n",
       "\n",
       "   magError  magNst     status  locationSource magSource  \n",
       "0     0.213    37.0  automatic              ci        ci  \n",
       "1     0.137     9.0  automatic              ci        ci  \n",
       "2     0.080     8.0   reviewed              nn        nn  \n",
       "3     0.093     8.0  automatic              ci        ci  \n",
       "4     0.055     8.0  automatic              ci        ci  \n",
       "\n",
       "[5 rows x 22 columns]"
      ]
     },
     "execution_count": 7,
     "metadata": {},
     "output_type": "execute_result"
    }
   ],
   "source": [
    "#for seeing the data (short form)\n",
    "df.head()"
   ]
  },
  {
   "cell_type": "code",
   "execution_count": 8,
   "id": "c0779825-6b15-4f5d-b307-3bf775f1278f",
   "metadata": {
    "tags": []
   },
   "outputs": [],
   "source": [
    "x = df.mag.values"
   ]
  },
  {
   "cell_type": "code",
   "execution_count": 9,
   "id": "da7f1a0b-9d94-4f0c-a885-48e4796ee958",
   "metadata": {
    "tags": []
   },
   "outputs": [
    {
     "name": "stdout",
     "output_type": "stream",
     "text": [
      "<class 'pandas.core.frame.DataFrame'>\n",
      "RangeIndex: 5392 entries, 0 to 5391\n",
      "Data columns (total 22 columns):\n",
      " #   Column           Non-Null Count  Dtype  \n",
      "---  ------           --------------  -----  \n",
      " 0   time             5392 non-null   object \n",
      " 1   latitude         5392 non-null   float64\n",
      " 2   longitude        5392 non-null   float64\n",
      " 3   depth            5392 non-null   float64\n",
      " 4   mag              5392 non-null   float64\n",
      " 5   magType          5392 non-null   object \n",
      " 6   nst              5273 non-null   float64\n",
      " 7   gap              5392 non-null   float64\n",
      " 8   dmin             5354 non-null   float64\n",
      " 9   rms              5392 non-null   float64\n",
      " 10  net              5392 non-null   object \n",
      " 11  id               5392 non-null   object \n",
      " 12  updated          5392 non-null   object \n",
      " 13  place            5392 non-null   object \n",
      " 14  type             5392 non-null   object \n",
      " 15  horizontalError  4468 non-null   float64\n",
      " 16  depthError       5392 non-null   float64\n",
      " 17  magError         5244 non-null   float64\n",
      " 18  magNst           5351 non-null   float64\n",
      " 19  status           5392 non-null   object \n",
      " 20  locationSource   5392 non-null   object \n",
      " 21  magSource        5392 non-null   object \n",
      "dtypes: float64(12), object(10)\n",
      "memory usage: 926.9+ KB\n"
     ]
    }
   ],
   "source": [
    "df.info()"
   ]
  },
  {
   "cell_type": "code",
   "execution_count": 12,
   "id": "8f7f5943-02b2-4ce9-a3bf-ffd75dbce99e",
   "metadata": {
    "tags": []
   },
   "outputs": [
    {
     "name": "stderr",
     "output_type": "stream",
     "text": [
      "/var/folders/l4/zzypv4g962z9znwm8cxmhf5h0000gn/T/ipykernel_3244/3746914587.py:1: UserWarning: \n",
      "\n",
      "`distplot` is a deprecated function and will be removed in seaborn v0.14.0.\n",
      "\n",
      "Please adapt your code to use either `displot` (a figure-level function with\n",
      "similar flexibility) or `histplot` (an axes-level function for histograms).\n",
      "\n",
      "For a guide to updating your code to use the new functions, please see\n",
      "https://gist.github.com/mwaskom/de44147ed2974457ad6372750bbe5751\n",
      "\n",
      "  sns.distplot(x)\n"
     ]
    },
    {
     "data": {
      "text/plain": [
       "<Axes: ylabel='Density'>"
      ]
     },
     "execution_count": 12,
     "metadata": {},
     "output_type": "execute_result"
    },
    {
     "data": {
      "image/png": "[encoded data removed]",
      "text/plain": [
       "<Figure size 640x480 with 1 Axes>"
      ]
     },
     "metadata": {},
     "output_type": "display_data"
    }
   ],
   "source": [
    "sns.distplot(x)"
   ]
  },
  {
   "cell_type": "code",
   "execution_count": null,
   "id": "d3648a13-e0e9-4258-8639-955be6c4e0c3",
   "metadata": {},
   "outputs": [],
   "source": []
  }
 ],
 "metadata": {
  "kernelspec": {
   "display_name": "Python 3 (ipykernel)",
   "language": "python",
   "name": "python3"
  },
  "language_info": {
   "codemirror_mode": {
    "name": "ipython",
    "version": 3
   },
   "file_extension": ".py",
   "mimetype": "text/x-python",
   "name": "python",
   "nbconvert_exporter": "python",
   "pygments_lexer": "ipython3",
   "version": "3.11.4"
  }
 },
 "nbformat": 4,
 "nbformat_minor": 5
}
