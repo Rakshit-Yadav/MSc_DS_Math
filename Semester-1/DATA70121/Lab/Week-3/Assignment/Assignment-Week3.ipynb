{
 "cells": [
  {
   "cell_type": "code",
   "execution_count": 7,
   "id": "a146a7f2-7ef4-406e-9874-f7c57ec60d9d",
   "metadata": {
    "tags": []
   },
   "outputs": [],
   "source": [
    "# Basic numerics\n",
    "import numpy as np\n",
    "import scipy.stats as st\n",
    "\n",
    "# Graphics\n",
    "import matplotlib.pyplot as plt\n",
    "import seaborn as sns\n",
    "sns.set_style(\"whitegrid\", {'axes.grid' : False})"
   ]
  },
  {
   "cell_type": "code",
   "execution_count": 8,
   "id": "021c06c9-6b67-4b4b-9a22-a9bc12005eec",
   "metadata": {
    "tags": []
   },
   "outputs": [],
   "source": [
    "# https://www.tutorialspoint.com/How-can-I-create-a-directory-if-it-does-not-exist-using-Python\n",
    "import os\n",
    "if not os.path.exists('Figures'):\n",
    "    os.makedirs('Figures')"
   ]
  },
  {
   "cell_type": "code",
   "execution_count": 4,
   "id": "03fe9a16-2675-4302-9e62-6af99f4677bc",
   "metadata": {
    "tags": []
   },
   "outputs": [],
   "source": [
    "seabornVersionStr = sns.__version__ # e.g. 0.11.0\n",
    "versionStrParts = seabornVersionStr.split('.')  # yields a list of substrings, e.g. [\"0\", \"11\", \"0\"]"
   ]
  },
  {
   "cell_type": "code",
   "execution_count": 9,
   "id": "1a08710e-e9ed-4367-baac-976584acbcb5",
   "metadata": {
    "tags": []
   },
   "outputs": [],
   "source": [
    "import pandas as pd"
   ]
  },
  {
   "cell_type": "code",
   "execution_count": 10,
   "id": "334ee994-2c9e-4ae9-8b27-7558c4802003",
   "metadata": {},
   "outputs": [
    {
     "name": "stdout",
     "output_type": "stream",
     "text": [
      "     AC_YEAR  STATCD  DISTCD         STATNAME     DISTNAME  DISTRICTS  BLOCKS  \\\n",
      "0    2015-16       1     101  JAMMU & KASHMIR      KUPWARA          1      13   \n",
      "1    2015-16       1     102  JAMMU & KASHMIR     BARAMULA          1      18   \n",
      "2    2015-16       1     103  JAMMU & KASHMIR     SRINAGAR          1       8   \n",
      "3    2015-16       1     104  JAMMU & KASHMIR       BADGAM          1      13   \n",
      "4    2015-16       1     105  JAMMU & KASHMIR      PULWAMA          1       8   \n",
      "..       ...     ...     ...              ...          ...        ...     ...   \n",
      "675  2015-16      36    3606        TELANGANA  RANGA REDDY          1      37   \n",
      "676  2015-16      36    3607        TELANGANA  MAHBUBNAGAR          1      64   \n",
      "677  2015-16      36    3608        TELANGANA     NALGONDA          1      59   \n",
      "678  2015-16      36    3609        TELANGANA     WARANGAL          1      51   \n",
      "679  2015-16      36    3610        TELANGANA      KHAMMAM          1      41   \n",
      "\n",
      "     VILLAGES  CLUSTERS  TOTPOPULAT  ...  UUNI_ALL  UUNI_SC  UUNI_ST  \\\n",
      "0         391       104    875564.0  ...     21322       26     2594   \n",
      "1         678       144   1015503.0  ...     17307        0     1571   \n",
      "2          94        65   1269751.0  ...      5444       31      408   \n",
      "3         523       104    735753.0  ...     12469       18      857   \n",
      "4         359        64    570060.0  ...      7408       17      855   \n",
      "..        ...       ...         ...  ...       ...      ...      ...   \n",
      "675       876       137   5296396.0  ...     93203    25534     9457   \n",
      "676      1458       230   4042191.0  ...    134277    31001    14590   \n",
      "677      1117       216   3483648.0  ...     96804    26577    14015   \n",
      "678       993       211   3522644.0  ...     92224    23172    23525   \n",
      "679       783       185   2798214.0  ...     70234    15593    25217   \n",
      "\n",
      "     TOTCLS1G  TOTCLS2G  TOTCLS3G  TOTCLS4G  TOTCLS5G  TOTCLS6G  TOTCLS7G  \n",
      "0        3489      5315        27        62        23       852       239  \n",
      "1        4127      5800       210        53        30      1665       360  \n",
      "2         817      3284       886        11         0      2873        40  \n",
      "3        2290      3837       119        45         8      1035       325  \n",
      "4        1688      2584       151        67         5      1101       209  \n",
      "..        ...       ...       ...       ...       ...       ...       ...  \n",
      "675      7224      8298       529         0       121     15458      3337  \n",
      "676      8936      7007       179         0        44      3730      3327  \n",
      "677      7592      4534       103         0       208      4026      3049  \n",
      "678      6674      4677       153         0       207      7035      3060  \n",
      "679      6047      4015       104         0        32      3103      2228  \n",
      "\n",
      "[680 rows x 819 columns]\n"
     ]
    }
   ],
   "source": [
    "# reading the CSV file\n",
    "edu_india = pd.read_csv('data_edu_india.csv')\n",
    "\n",
    "# displaying the contents of the CSV file\n",
    "print(edu_india)\n"
   ]
  },
  {
   "cell_type": "code",
   "execution_count": 11,
   "id": "6efc5402-e3cc-4a74-b24e-1b9d0575ad8e",
   "metadata": {
    "tags": []
   },
   "outputs": [
    {
     "ename": "NameError",
     "evalue": "name 'STATCD' is not defined",
     "output_type": "error",
     "traceback": [
      "\u001b[0;31m---------------------------------------------------------------------------\u001b[0m",
      "\u001b[0;31mNameError\u001b[0m                                 Traceback (most recent call last)",
      "Cell \u001b[0;32mIn[11], line 1\u001b[0m\n\u001b[0;32m----> 1\u001b[0m X \u001b[38;5;241m=\u001b[39m [STATCD, DISTCD,DISTRICTS,BLOCKS]\n",
      "\u001b[0;31mNameError\u001b[0m: name 'STATCD' is not defined"
     ]
    }
   ],
   "source": [
    "X = [STATCD, DISTCD,DISTRICTS,BLOCKS]"
   ]
  },
  {
   "cell_type": "code",
   "execution_count": null,
   "id": "f51fca3c-7b2f-4904-9ba4-682b4439270a",
   "metadata": {},
   "outputs": [],
   "source": []
  }
 ],
 "metadata": {
  "kernelspec": {
   "display_name": "Python 3 (ipykernel)",
   "language": "python",
   "name": "python3"
  },
  "language_info": {
   "codemirror_mode": {
    "name": "ipython",
    "version": 3
   },
   "file_extension": ".py",
   "mimetype": "text/x-python",
   "name": "python",
   "nbconvert_exporter": "python",
   "pygments_lexer": "ipython3",
   "version": "3.11.4"
  }
 },
 "nbformat": 4,
 "nbformat_minor": 5
}
